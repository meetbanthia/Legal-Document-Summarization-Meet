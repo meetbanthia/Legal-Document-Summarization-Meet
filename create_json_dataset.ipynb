{
 "cells": [
  {
   "cell_type": "code",
   "execution_count": 1,
   "metadata": {},
   "outputs": [
    {
     "data": {
      "text/plain": [
       "0"
      ]
     },
     "execution_count": 1,
     "metadata": {},
     "output_type": "execute_result"
    }
   ],
   "source": [
    "#unzippinf lists_to_use zip to access files inside it\n",
    "from zipfile import ZipFile\n",
    "\n",
    "with ZipFile('intermediate/lists_to_use.zip', 'r') as f:\n",
    "    f.extractall('intermediate/')\n",
    "\n",
    "#accessing files\n",
    "import pickle\n",
    "with open('intermediate/lists_to_use/jl.pickle', 'rb') as file:\n",
    "  jgslist = pickle.load(file)\n",
    "\n",
    "with open('intermediate/lists_to_use/sl.pickle', 'rb') as file:\n",
    "  sumlist = pickle.load(file)\n",
    "\n",
    "#remove unzipped files\n",
    "import os\n",
    "os.system(\"rm -r intermediate/lists_to_use\")"
   ]
  },
  {
   "cell_type": "code",
   "execution_count": 2,
   "metadata": {},
   "outputs": [
    {
     "data": {
      "text/plain": [
       "['criminal appeal number 13 1981 judgment dated 26 3 1979 allahabad high court criminal',\n",
       " 'petition number 1816 1976 altar ahmad appellant present',\n",
       " 'va bobde amicus curia respondent',\n",
       " 'judgment court delivered natarajan j',\n",
       " 'unfortunate high court quashed maintenance passed favour minor child tarana farooq special judicial magistrate number 1 rampur section 125 criminal',\n",
       " 'pc exercise power section 482 criminal',\n",
       " 'high court however deemed fit grant certificate appellant dukhtar jahan mother minor child article 134 1 c read article 134a con stitution prefer appeal court considera tion law formulated whether application section 482 criminal',\n",
       " 'pc high court interfere concurrent finding rendered court find appeal capable disposed basis material feel called upon answer law formulated consideration high court',\n",
       " 'look fact',\n",
       " 'appellant dukhtar jahan respondent mohammed farooq already related first cousin issue two sister married 11 5 1973',\n",
       " 'marriage lasted 17 month 1090 since respondent divorced appellant 16 10 1974',\n",
       " 'however party wedlock appellant delivered female child named tarana farooq 5 12 1973',\n",
       " 'respondent effected divorce october 1974 appellant filed petition section 125 criminal',\n",
       " 'pc court special judicial magistrate number 1 rampur grant maintenance child r 150 pm r 50 pm respectively',\n",
       " 'appellant however gave claim maintenance stand respondent paid maher amount payable iddat period returned article given way dowry',\n",
       " 'enquiry petition confined claim maintenance child tarana',\n",
       " 'respondent refuted liability provide mainte nance child ground father child child conceived even marriage appellant suppressed fact enceinte time marriage',\n",
       " 'appellant examined another witness substantiate claim maintenance child respondent examined three witness besides refute claim',\n",
       " 'three witness two spoken payment maher etc',\n",
       " 'appellant hence need mention testimony dw2 abdul asad',\n",
       " 'witness panchayat sevak deposed entry birth register exhibit kha i birth girl child tarana farooq respondent appellant basis information given village chowkidar name kalicharan',\n",
       " 'obviously witness examined show respondent informant birth child neutralise effect entry birth register',\n",
       " 'trial magistrate taking consideration evidence adduced conduct party since child born parent wedlock since respondent discarded wife disowned child forthwith waited 10 month divorce appellant reasonable hold child conceived respondent law obli gated provide maintenance child',\n",
       " 'taking consideration respondent s income learned magistrate awarded maintenance child r 30 per month claim r 50 pm 1091 revision preferred magistrate session judge rampur proved avail hence respondent filed criminal misc',\n",
       " 'petition number 1816 1978 high court calcutta section 482 criminal',\n",
       " 'pc quashing maintenance',\n",
       " 'single judge high court allowed petition quashed maintenance favour child',\n",
       " 'learned judge taken view since child born 7 month time date marriage since child claimed prematurely born neces sarily appellant conceived even married respondent consequently respondent cannot father child called upon pay maintenance',\n",
       " 'high court appeared prima facie unsustainable respondent failed enter appearance spite notice served quested mister bobde appear amicus curia spondent thankful assistance',\n",
       " 'admitted fact appellant spondent close relation stranger marriage',\n",
       " 'married 11 5 1973 girl child born 5 12 1973',\n",
       " 'respondent divorce appellant immediately child birth even two three month later divorced 16 10',\n",
       " 'child birth took place house respondent hence birth child known respondent immediately',\n",
       " 'spite factor high court allowed influenced two factor videlicet child birth taking place 7 month time date marriage child claimed full grown time birth',\n",
       " 'examining matter feel learned judge failed view entire conspectus led miscarriage justice',\n",
       " 'sole ground child born 7 month time marriage cannot concluded child conceived even respondent consummated marriage',\n",
       " 'giving birth viable child 28 week duration pregnancy biologically improbable impossible event',\n",
       " 'combined textbook obstetrics gynaecology sir gugald baird 7th edition page 162 reported 1092 clark v clark 1939 extremely small baby born alive 174 day last possible date intercourse husband taken place survived legitimate',\n",
       " 'unusual baby weight gestation period survive occasion ally happen',\n",
       " 'learned judge ought rushed conclusion child born 7 month time marriage parent necessarily conceived even marriage took place',\n",
       " 'far second aspect concerned videlicet appel lant s statement child born prematurely high court failed bear mind appellant rustic illiterate woman opinion suffer error judgment',\n",
       " 'another serious infirmity noticed judgment learned judge completely lost sight section 112 indian evidence act',\n",
       " 'section 112 lay person born continuance valid marriage mother man within two hun dred eighty day dissolution mother remains unmarried taken conclusive proof legitimate son man unless shown party marriage access time begotton',\n",
       " 'rule law based dictate justice always court incline towards upholding legitimacy child unless fact compulsive clinching necessarily warrant finding child begotten father legitima tion child result rank injustice father',\n",
       " 'court always desisted lightly hastily rendering verdict basis slender material effect branding child bastard mother unchaste woman',\n",
       " 'drive home point refer reported case court applied rule evidence contained section 112 indian evidence act declared legitimacy child born wedlock even though child born prematurely',\n",
       " 'mahbub ali v taj khan all india reporter 1915 lahore 77 2 boy born 7 month father mother lawfully married opportunity access time begotten legitimate son parent',\n",
       " 'kahan singh v natha singh air 1093 1925 lahore 414 defendant s father married defendant s mother 2nd august 1889 defendant born 23rd january 1890',\n",
       " 'even defendant born continuance marriage parent father s legitimate son unless shown parent access time begotten immaterial soon marriage defendant born sibt mohammad v 1500 hameed air 1926 allahabad 589 muhammedan child born continuance valid marriage parent within 6 month date parent marriage legitimate child reason section 112 evidence act',\n",
       " 'ponnammal v addi aiyan air 1953 tra co 434 vol 40 cn 169 paternity child born married woman 8 month date marriage disputed husband alleged incapacitated sexual intercourse month date marriage due operation undergo hence child',\n",
       " 'court even assuming husband incapacitated time available videlicet seven month sufficient raise presumption father child',\n",
       " 'even without reference section 112 indian evidence act take consideration fact conduct party attendant cir cumstances find preponderance material support appellant rather respond ent',\n",
       " 'relevant feature escaped attention high court catalogued appellant pregnant even time marriage concealed fact long event respondent come know within two three month marriage thereupon immediately protested either discarded appellant reported matter village elder relative sought divorce',\n",
       " 'contrary respondent continued lead life appellant normal manner till birth child',\n",
       " 'even con finement appears taken place house wise child s birth registered village',\n",
       " 'respondent disowned child immedi ately birth sent away appellant parent house',\n",
       " 'conduct doubt paternity child',\n",
       " 'moreover entry 1094 birth register exhibit kha 1 setting respond ent father child',\n",
       " 'though respondent attempted neutralise entry exhibit kha 1 exam ining dw2 making appear entry basis information given third party lower court refused give credence vague uncorroborated testimony dw2',\n",
       " 'significant note respondent allowed eleven month pas effecting divorce',\n",
       " 'inaction long period respondent given room inference divorce effected reason account appellant giving birth child conceived else',\n",
       " 'lastly even child born full term pregnancy born mind possibility respondent access appellant marriage cannot ruled closely related moving close term',\n",
       " 'factor negate plea respondent minor child lathered',\n",
       " 'proper course high court even entitled interfere concurrent finding court exercise power section 482 criminal procedure code sustain maintenance direct respondent seek appropriate declaration civil court full fledged trial child born legally liable maintain',\n",
       " 'proceeding section 125 criminal',\n",
       " 'pc remembered summary nature intended enable destitute wife child latter whether legitimate illegitimate get maintenance speedy manner',\n",
       " 'high court clearly error quashing maintenance favour child',\n",
       " 'appeal succeed accordingly allow appeal set aside high court restore maintenance passed trial court',\n",
       " 'sr appeal allowed']"
      ]
     },
     "execution_count": 2,
     "metadata": {},
     "output_type": "execute_result"
    }
   ],
   "source": [
    "jgslist[1]"
   ]
  },
  {
   "cell_type": "code",
   "execution_count": 3,
   "metadata": {},
   "outputs": [],
   "source": [
    "jgs = [\". \".join(lst) for lst in jgslist]"
   ]
  },
  {
   "cell_type": "code",
   "execution_count": 4,
   "metadata": {},
   "outputs": [
    {
     "name": "stdout",
     "output_type": "stream",
     "text": [
      "JSON file created successfully.\n"
     ]
    }
   ],
   "source": [
    "import json\n",
    "\n",
    "\n",
    "# Create a list of dictionaries with the desired format\n",
    "data = [{\"judgement\": value} for value in jgs]\n",
    "\n",
    "with open('intermediate/jgs.json', 'w') as json_file:\n",
    "    for item in data:\n",
    "        json.dump(item, json_file)\n",
    "        json_file.write('\\n')\n",
    "\n",
    "print(\"JSON file created successfully.\")\n"
   ]
  }
 ],
 "metadata": {
  "kernelspec": {
   "display_name": "Python 3.9 (pytorch)",
   "language": "python",
   "name": "pytorch"
  },
  "language_info": {
   "codemirror_mode": {
    "name": "ipython",
    "version": 3
   },
   "file_extension": ".py",
   "mimetype": "text/x-python",
   "name": "python",
   "nbconvert_exporter": "python",
   "pygments_lexer": "ipython3",
   "version": "3.9.16"
  },
  "orig_nbformat": 4
 },
 "nbformat": 4,
 "nbformat_minor": 2
}
