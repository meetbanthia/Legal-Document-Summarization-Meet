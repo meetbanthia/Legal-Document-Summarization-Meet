{
  "cells": [
    {
      "cell_type": "markdown",
      "metadata": {},
      "source": [
        "Importing some files required for InferSent module"
      ]
    },
    {
      "cell_type": "code",
      "execution_count": null,
      "metadata": {},
      "outputs": [],
      "source": [
        "import os\n",
        "os.system(\"mkdir GloVe\")\n",
        "os.system(\"curl -Lo GloVe/glove.840B.300d.zip http://nlp.stanford.edu/data/glove.840B.300d.zip\")\n",
        "os.system(\"unzip GloVe/glove.840B.300d.zip -d GloVe/\")\n",
        "os.system(\"mkdir fastText\")\n",
        "os.system(\"curl -Lo fastText/crawl-300d-2M.vec.zip https://dl.fbaipublicfiles.com/fasttext/vectors-english/crawl-300d-2M.vec.zip\")\n",
        "os.system(\"unzip fastText/crawl-300d-2M.vec.zip -d fastText/\")\n",
        "os.system(\"mkdir encoder\")\n",
        "os.system(\"curl -Lo encoder/infersent1.pkl https://dl.fbaipublicfiles.com/infersent/infersent1.pkl\")\n",
        "os.system(\"curl -Lo encoder/infersent2.pkl https://dl.fbaipublicfiles.com/infersent/infersent2.pkl\")"
      ]
    },
    {
      "cell_type": "code",
      "execution_count": 3,
      "metadata": {
        "id": "r46hJVEdE_f_"
      },
      "outputs": [
        {
          "data": {
            "text/plain": [
              "0"
            ]
          },
          "execution_count": 3,
          "metadata": {},
          "output_type": "execute_result"
        }
      ],
      "source": [
        "#unzipping all files\n",
        "from zipfile import ZipFile\n",
        "\n",
        "with ZipFile('../intermediate/lists_to_use.zip', 'r') as f:\n",
        "    f.extractall('../intermediate/')\n",
        "\n",
        "#accessing stored contents\n",
        "import pickle\n",
        "with open('../intermediate/jgslist_latest.pickle', 'rb') as file:\n",
        "  jgslist = pickle.load(file)\n",
        "\n",
        "with open('../intermediate/sumlist_new.pickle', 'rb') as file:\n",
        "  sumlist = pickle.load(file)\n",
        "\n",
        "#remove unzipped files\n",
        "os.system(\"rm ../intermediate/jgslist_latest.pickle\")\n",
        "os.system(\"rm ../intermediate/sumlist_new.pickle\")"
      ]
    },
    {
      "cell_type": "code",
      "execution_count": 27,
      "metadata": {
        "id": "PNvi-sNr0Yer"
      },
      "outputs": [],
      "source": [
        "import numpy as np\n",
        "def cosine(u, v):\n",
        "    return np.dot(u, v) / (np.linalg.norm(u) * np.linalg.norm(v))"
      ]
    },
    {
      "cell_type": "code",
      "execution_count": 3,
      "metadata": {},
      "outputs": [
        {
          "name": "stdout",
          "output_type": "stream",
          "text": [
            "Requirement already satisfied: pip in /Users/meetbanthia/miniconda3/envs/torch/lib/python3.9/site-packages (23.2)\n",
            "Collecting pip\n",
            "  Obtaining dependency information for pip from https://files.pythonhosted.org/packages/50/c2/e06851e8cc28dcad7c155f4753da8833ac06a5c704c109313b8d5a62968a/pip-23.2.1-py3-none-any.whl.metadata\n",
            "  Downloading pip-23.2.1-py3-none-any.whl.metadata (4.2 kB)\n",
            "Requirement already satisfied: setuptools in /Users/meetbanthia/miniconda3/envs/torch/lib/python3.9/site-packages (68.0.0)\n",
            "Requirement already satisfied: wheel in /Users/meetbanthia/miniconda3/envs/torch/lib/python3.9/site-packages (0.40.0)\n",
            "Collecting wheel\n",
            "  Obtaining dependency information for wheel from https://files.pythonhosted.org/packages/17/11/f139e25018ea2218aeedbedcf85cd0dd8abeed29a38ac1fda7f5a8889382/wheel-0.41.0-py3-none-any.whl.metadata\n",
            "  Downloading wheel-0.41.0-py3-none-any.whl.metadata (2.2 kB)\n",
            "Downloading pip-23.2.1-py3-none-any.whl (2.1 MB)\n",
            "\u001b[2K   \u001b[90m━━━━━━━━━━━━━━━━━━━━━━━━━━━━━━━━━━━━━━━━\u001b[0m \u001b[32m2.1/2.1 MB\u001b[0m \u001b[31m5.2 MB/s\u001b[0m eta \u001b[36m0:00:00\u001b[0ma \u001b[36m0:00:01\u001b[0m\n",
            "\u001b[?25hDownloading wheel-0.41.0-py3-none-any.whl (64 kB)\n",
            "\u001b[2K   \u001b[90m━━━━━━━━━━━━━━━━━━━━━━━━━━━━━━━━━━━━━━━━\u001b[0m \u001b[32m64.7/64.7 kB\u001b[0m \u001b[31m1.4 MB/s\u001b[0m eta \u001b[36m0:00:00\u001b[0ma \u001b[36m0:00:01\u001b[0m\n",
            "\u001b[?25hInstalling collected packages: wheel, pip\n",
            "  Attempting uninstall: wheel\n",
            "    Found existing installation: wheel 0.40.0\n",
            "    Uninstalling wheel-0.40.0:\n",
            "      Successfully uninstalled wheel-0.40.0\n",
            "  Attempting uninstall: pip\n",
            "    Found existing installation: pip 23.2\n",
            "    Uninstalling pip-23.2:\n",
            "      Successfully uninstalled pip-23.2\n",
            "Successfully installed pip-23.2.1 wheel-0.41.0\n",
            "Requirement already satisfied: spacy in /Users/meetbanthia/miniconda3/envs/torch/lib/python3.9/site-packages (3.6.0)\n",
            "Requirement already satisfied: spacy-legacy<3.1.0,>=3.0.11 in /Users/meetbanthia/miniconda3/envs/torch/lib/python3.9/site-packages (from spacy) (3.0.12)\n",
            "Requirement already satisfied: spacy-loggers<2.0.0,>=1.0.0 in /Users/meetbanthia/miniconda3/envs/torch/lib/python3.9/site-packages (from spacy) (1.0.4)\n",
            "Requirement already satisfied: murmurhash<1.1.0,>=0.28.0 in /Users/meetbanthia/miniconda3/envs/torch/lib/python3.9/site-packages (from spacy) (1.0.9)\n",
            "Requirement already satisfied: cymem<2.1.0,>=2.0.2 in /Users/meetbanthia/miniconda3/envs/torch/lib/python3.9/site-packages (from spacy) (2.0.7)\n",
            "Requirement already satisfied: preshed<3.1.0,>=3.0.2 in /Users/meetbanthia/miniconda3/envs/torch/lib/python3.9/site-packages (from spacy) (3.0.8)\n",
            "Requirement already satisfied: thinc<8.2.0,>=8.1.8 in /Users/meetbanthia/miniconda3/envs/torch/lib/python3.9/site-packages (from spacy) (8.1.10)\n",
            "Requirement already satisfied: wasabi<1.2.0,>=0.9.1 in /Users/meetbanthia/miniconda3/envs/torch/lib/python3.9/site-packages (from spacy) (1.1.2)\n",
            "Requirement already satisfied: srsly<3.0.0,>=2.4.3 in /Users/meetbanthia/miniconda3/envs/torch/lib/python3.9/site-packages (from spacy) (2.4.7)\n",
            "Requirement already satisfied: catalogue<2.1.0,>=2.0.6 in /Users/meetbanthia/miniconda3/envs/torch/lib/python3.9/site-packages (from spacy) (2.0.8)\n",
            "Requirement already satisfied: typer<0.10.0,>=0.3.0 in /Users/meetbanthia/miniconda3/envs/torch/lib/python3.9/site-packages (from spacy) (0.9.0)\n",
            "Requirement already satisfied: pathy>=0.10.0 in /Users/meetbanthia/miniconda3/envs/torch/lib/python3.9/site-packages (from spacy) (0.10.2)\n",
            "Requirement already satisfied: smart-open<7.0.0,>=5.2.1 in /Users/meetbanthia/miniconda3/envs/torch/lib/python3.9/site-packages (from spacy) (6.3.0)\n",
            "Requirement already satisfied: tqdm<5.0.0,>=4.38.0 in /Users/meetbanthia/miniconda3/envs/torch/lib/python3.9/site-packages (from spacy) (4.65.0)\n",
            "Requirement already satisfied: numpy>=1.15.0 in /Users/meetbanthia/miniconda3/envs/torch/lib/python3.9/site-packages (from spacy) (1.25.1)\n",
            "Requirement already satisfied: requests<3.0.0,>=2.13.0 in /Users/meetbanthia/miniconda3/envs/torch/lib/python3.9/site-packages (from spacy) (2.31.0)\n",
            "Requirement already satisfied: pydantic!=1.8,!=1.8.1,<1.11.0,>=1.7.4 in /Users/meetbanthia/miniconda3/envs/torch/lib/python3.9/site-packages (from spacy) (1.10.11)\n",
            "Requirement already satisfied: jinja2 in /Users/meetbanthia/miniconda3/envs/torch/lib/python3.9/site-packages (from spacy) (3.1.2)\n",
            "Requirement already satisfied: setuptools in /Users/meetbanthia/miniconda3/envs/torch/lib/python3.9/site-packages (from spacy) (68.0.0)\n",
            "Requirement already satisfied: packaging>=20.0 in /Users/meetbanthia/miniconda3/envs/torch/lib/python3.9/site-packages (from spacy) (23.1)\n",
            "Requirement already satisfied: langcodes<4.0.0,>=3.2.0 in /Users/meetbanthia/miniconda3/envs/torch/lib/python3.9/site-packages (from spacy) (3.3.0)\n",
            "Requirement already satisfied: typing-extensions>=4.2.0 in /Users/meetbanthia/miniconda3/envs/torch/lib/python3.9/site-packages (from pydantic!=1.8,!=1.8.1,<1.11.0,>=1.7.4->spacy) (4.7.1)\n",
            "Requirement already satisfied: charset-normalizer<4,>=2 in /Users/meetbanthia/miniconda3/envs/torch/lib/python3.9/site-packages (from requests<3.0.0,>=2.13.0->spacy) (3.2.0)\n",
            "Requirement already satisfied: idna<4,>=2.5 in /Users/meetbanthia/miniconda3/envs/torch/lib/python3.9/site-packages (from requests<3.0.0,>=2.13.0->spacy) (3.4)\n",
            "Requirement already satisfied: urllib3<3,>=1.21.1 in /Users/meetbanthia/miniconda3/envs/torch/lib/python3.9/site-packages (from requests<3.0.0,>=2.13.0->spacy) (1.26.15)\n",
            "Requirement already satisfied: certifi>=2017.4.17 in /Users/meetbanthia/miniconda3/envs/torch/lib/python3.9/site-packages (from requests<3.0.0,>=2.13.0->spacy) (2023.5.7)\n",
            "Requirement already satisfied: blis<0.8.0,>=0.7.8 in /Users/meetbanthia/miniconda3/envs/torch/lib/python3.9/site-packages (from thinc<8.2.0,>=8.1.8->spacy) (0.7.9)\n",
            "Requirement already satisfied: confection<1.0.0,>=0.0.1 in /Users/meetbanthia/miniconda3/envs/torch/lib/python3.9/site-packages (from thinc<8.2.0,>=8.1.8->spacy) (0.1.0)\n",
            "Requirement already satisfied: click<9.0.0,>=7.1.1 in /Users/meetbanthia/miniconda3/envs/torch/lib/python3.9/site-packages (from typer<0.10.0,>=0.3.0->spacy) (8.1.5)\n",
            "Requirement already satisfied: MarkupSafe>=2.0 in /Users/meetbanthia/miniconda3/envs/torch/lib/python3.9/site-packages (from jinja2->spacy) (2.1.3)\n"
          ]
        }
      ],
      "source": [
        "! pip install -U pip setuptools wheel\n",
        "! pip install -U spacy"
      ]
    },
    {
      "cell_type": "code",
      "execution_count": 5,
      "metadata": {},
      "outputs": [
        {
          "name": "stdout",
          "output_type": "stream",
          "text": [
            "\u001b[2K\u001b[38;5;2m✔ Loaded compatibility table\u001b[0m\n",
            "\u001b[1m\n",
            "================= Installed pipeline packages (spaCy v3.6.0) =================\u001b[0m\n",
            "\u001b[38;5;4mℹ spaCy installation:\n",
            "/Users/meetbanthia/miniconda3/envs/torch/lib/python3.9/site-packages/spacy\u001b[0m\n",
            "\n",
            "NAME             SPACY            VERSION                            \n",
            "en_core_web_md   >=3.6.0,<3.7.0   \u001b[38;5;2m3.6.0\u001b[0m   \u001b[38;5;2m✔\u001b[0m\n",
            "\n"
          ]
        }
      ],
      "source": [
        "! python -m spacy validate"
      ]
    },
    {
      "cell_type": "code",
      "execution_count": 6,
      "metadata": {},
      "outputs": [
        {
          "name": "stdout",
          "output_type": "stream",
          "text": [
            "Collecting en-core-web-md==3.6.0\n",
            "  Downloading https://github.com/explosion/spacy-models/releases/download/en_core_web_md-3.6.0/en_core_web_md-3.6.0-py3-none-any.whl (42.8 MB)\n",
            "\u001b[2K     \u001b[90m━━━━━━━━━━━━━━━━━━━━━━━━━━━━━━━━━━━━━━━━\u001b[0m \u001b[32m42.8/42.8 MB\u001b[0m \u001b[31m24.0 MB/s\u001b[0m eta \u001b[36m0:00:00\u001b[0m00:01\u001b[0m00:01\u001b[0m\n",
            "\u001b[?25hRequirement already satisfied: spacy<3.7.0,>=3.6.0 in /Users/meetbanthia/miniconda3/envs/torch/lib/python3.9/site-packages (from en-core-web-md==3.6.0) (3.6.0)\n",
            "Requirement already satisfied: spacy-legacy<3.1.0,>=3.0.11 in /Users/meetbanthia/miniconda3/envs/torch/lib/python3.9/site-packages (from spacy<3.7.0,>=3.6.0->en-core-web-md==3.6.0) (3.0.12)\n",
            "Requirement already satisfied: spacy-loggers<2.0.0,>=1.0.0 in /Users/meetbanthia/miniconda3/envs/torch/lib/python3.9/site-packages (from spacy<3.7.0,>=3.6.0->en-core-web-md==3.6.0) (1.0.4)\n",
            "Requirement already satisfied: murmurhash<1.1.0,>=0.28.0 in /Users/meetbanthia/miniconda3/envs/torch/lib/python3.9/site-packages (from spacy<3.7.0,>=3.6.0->en-core-web-md==3.6.0) (1.0.9)\n",
            "Requirement already satisfied: cymem<2.1.0,>=2.0.2 in /Users/meetbanthia/miniconda3/envs/torch/lib/python3.9/site-packages (from spacy<3.7.0,>=3.6.0->en-core-web-md==3.6.0) (2.0.7)\n",
            "Requirement already satisfied: preshed<3.1.0,>=3.0.2 in /Users/meetbanthia/miniconda3/envs/torch/lib/python3.9/site-packages (from spacy<3.7.0,>=3.6.0->en-core-web-md==3.6.0) (3.0.8)\n",
            "Requirement already satisfied: thinc<8.2.0,>=8.1.8 in /Users/meetbanthia/miniconda3/envs/torch/lib/python3.9/site-packages (from spacy<3.7.0,>=3.6.0->en-core-web-md==3.6.0) (8.1.10)\n",
            "Requirement already satisfied: wasabi<1.2.0,>=0.9.1 in /Users/meetbanthia/miniconda3/envs/torch/lib/python3.9/site-packages (from spacy<3.7.0,>=3.6.0->en-core-web-md==3.6.0) (1.1.2)\n",
            "Requirement already satisfied: srsly<3.0.0,>=2.4.3 in /Users/meetbanthia/miniconda3/envs/torch/lib/python3.9/site-packages (from spacy<3.7.0,>=3.6.0->en-core-web-md==3.6.0) (2.4.7)\n",
            "Requirement already satisfied: catalogue<2.1.0,>=2.0.6 in /Users/meetbanthia/miniconda3/envs/torch/lib/python3.9/site-packages (from spacy<3.7.0,>=3.6.0->en-core-web-md==3.6.0) (2.0.8)\n",
            "Requirement already satisfied: typer<0.10.0,>=0.3.0 in /Users/meetbanthia/miniconda3/envs/torch/lib/python3.9/site-packages (from spacy<3.7.0,>=3.6.0->en-core-web-md==3.6.0) (0.9.0)\n",
            "Requirement already satisfied: pathy>=0.10.0 in /Users/meetbanthia/miniconda3/envs/torch/lib/python3.9/site-packages (from spacy<3.7.0,>=3.6.0->en-core-web-md==3.6.0) (0.10.2)\n",
            "Requirement already satisfied: smart-open<7.0.0,>=5.2.1 in /Users/meetbanthia/miniconda3/envs/torch/lib/python3.9/site-packages (from spacy<3.7.0,>=3.6.0->en-core-web-md==3.6.0) (6.3.0)\n",
            "Requirement already satisfied: tqdm<5.0.0,>=4.38.0 in /Users/meetbanthia/miniconda3/envs/torch/lib/python3.9/site-packages (from spacy<3.7.0,>=3.6.0->en-core-web-md==3.6.0) (4.65.0)\n",
            "Requirement already satisfied: numpy>=1.15.0 in /Users/meetbanthia/miniconda3/envs/torch/lib/python3.9/site-packages (from spacy<3.7.0,>=3.6.0->en-core-web-md==3.6.0) (1.25.1)\n",
            "Requirement already satisfied: requests<3.0.0,>=2.13.0 in /Users/meetbanthia/miniconda3/envs/torch/lib/python3.9/site-packages (from spacy<3.7.0,>=3.6.0->en-core-web-md==3.6.0) (2.31.0)\n",
            "Requirement already satisfied: pydantic!=1.8,!=1.8.1,<1.11.0,>=1.7.4 in /Users/meetbanthia/miniconda3/envs/torch/lib/python3.9/site-packages (from spacy<3.7.0,>=3.6.0->en-core-web-md==3.6.0) (1.10.11)\n",
            "Requirement already satisfied: jinja2 in /Users/meetbanthia/miniconda3/envs/torch/lib/python3.9/site-packages (from spacy<3.7.0,>=3.6.0->en-core-web-md==3.6.0) (3.1.2)\n",
            "Requirement already satisfied: setuptools in /Users/meetbanthia/miniconda3/envs/torch/lib/python3.9/site-packages (from spacy<3.7.0,>=3.6.0->en-core-web-md==3.6.0) (68.0.0)\n",
            "Requirement already satisfied: packaging>=20.0 in /Users/meetbanthia/miniconda3/envs/torch/lib/python3.9/site-packages (from spacy<3.7.0,>=3.6.0->en-core-web-md==3.6.0) (23.1)\n",
            "Requirement already satisfied: langcodes<4.0.0,>=3.2.0 in /Users/meetbanthia/miniconda3/envs/torch/lib/python3.9/site-packages (from spacy<3.7.0,>=3.6.0->en-core-web-md==3.6.0) (3.3.0)\n",
            "Requirement already satisfied: typing-extensions>=4.2.0 in /Users/meetbanthia/miniconda3/envs/torch/lib/python3.9/site-packages (from pydantic!=1.8,!=1.8.1,<1.11.0,>=1.7.4->spacy<3.7.0,>=3.6.0->en-core-web-md==3.6.0) (4.7.1)\n",
            "Requirement already satisfied: charset-normalizer<4,>=2 in /Users/meetbanthia/miniconda3/envs/torch/lib/python3.9/site-packages (from requests<3.0.0,>=2.13.0->spacy<3.7.0,>=3.6.0->en-core-web-md==3.6.0) (3.2.0)\n",
            "Requirement already satisfied: idna<4,>=2.5 in /Users/meetbanthia/miniconda3/envs/torch/lib/python3.9/site-packages (from requests<3.0.0,>=2.13.0->spacy<3.7.0,>=3.6.0->en-core-web-md==3.6.0) (3.4)\n",
            "Requirement already satisfied: urllib3<3,>=1.21.1 in /Users/meetbanthia/miniconda3/envs/torch/lib/python3.9/site-packages (from requests<3.0.0,>=2.13.0->spacy<3.7.0,>=3.6.0->en-core-web-md==3.6.0) (1.26.15)\n",
            "Requirement already satisfied: certifi>=2017.4.17 in /Users/meetbanthia/miniconda3/envs/torch/lib/python3.9/site-packages (from requests<3.0.0,>=2.13.0->spacy<3.7.0,>=3.6.0->en-core-web-md==3.6.0) (2023.5.7)\n",
            "Requirement already satisfied: blis<0.8.0,>=0.7.8 in /Users/meetbanthia/miniconda3/envs/torch/lib/python3.9/site-packages (from thinc<8.2.0,>=8.1.8->spacy<3.7.0,>=3.6.0->en-core-web-md==3.6.0) (0.7.9)\n",
            "Requirement already satisfied: confection<1.0.0,>=0.0.1 in /Users/meetbanthia/miniconda3/envs/torch/lib/python3.9/site-packages (from thinc<8.2.0,>=8.1.8->spacy<3.7.0,>=3.6.0->en-core-web-md==3.6.0) (0.1.0)\n",
            "Requirement already satisfied: click<9.0.0,>=7.1.1 in /Users/meetbanthia/miniconda3/envs/torch/lib/python3.9/site-packages (from typer<0.10.0,>=0.3.0->spacy<3.7.0,>=3.6.0->en-core-web-md==3.6.0) (8.1.5)\n",
            "Requirement already satisfied: MarkupSafe>=2.0 in /Users/meetbanthia/miniconda3/envs/torch/lib/python3.9/site-packages (from jinja2->spacy<3.7.0,>=3.6.0->en-core-web-md==3.6.0) (2.1.3)\n",
            "\u001b[38;5;2m✔ Download and installation successful\u001b[0m\n",
            "You can now load the package via spacy.load('en_core_web_md')\n"
          ]
        }
      ],
      "source": [
        "! python -m spacy download en_core_web_md\n"
      ]
    },
    {
      "cell_type": "markdown",
      "metadata": {},
      "source": [
        "You might require to run the below two lines on your terminal:\n",
        "1. pip install spacy\n",
        "2. python -m spacy download en_core_web_md\n",
        "\n",
        "OR\n",
        "\n",
        "You can create a cell above this and just run both these lines:\n",
        "1. !pip install spacy\n",
        "2. !python -m spacy download en_core_web_md\n"
      ]
    },
    {
      "cell_type": "markdown",
      "metadata": {},
      "source": [
        "# SpaCy(GloVe)"
      ]
    },
    {
      "cell_type": "code",
      "execution_count": 12,
      "metadata": {
        "colab": {
          "base_uri": "https://localhost:8080/"
        },
        "id": "u2FdVu-CaLFf",
        "outputId": "b20e753e-02a2-4066-ca5c-2f840d88c610"
      },
      "outputs": [
        {
          "name": "stdout",
          "output_type": "stream",
          "text": [
            "apple cat sky 300 41.221966020414214\n",
            "3.2824001\n",
            "<class 'numpy.ndarray'>\n",
            "apple [-1.0083999633789062, -2.0308001041412354, -0.6418499946594238, 2.6928000450134277, 0.3177100121974945, -2.6661999225616455, -3.7372000217437744, 5.471399784088135, -5.175099849700928, 0.5195800065994263, 5.489299774169922, -2.0917999744415283, -2.4932000637054443, 2.315200090408325, 0.39298999309539795, -2.427299976348877, 3.4245998859405518, -2.6519999504089355, 2.53410005569458, -4.809100151062012, -1.9630999565124512, 4.9045000076293945, -2.543800115585327, -1.5829999446868896, -3.781399965286255, -2.4935998916625977, -2.426100015640259, 3.815700054168701, 0.46178001165390015, 1.228600025177002, -0.20967000722885132, -1.4053000211715698, -2.4086999893188477, -2.226300001144409, 1.4234999418258667, -1.8700000047683716, 2.589200019836426, 3.38319993019104, 2.841599941253662, -1.503100037574768, 1.061400055885315, 1.3466999530792236, 0.7639200091362, 0.9313300251960754, 2.1568000316619873, 2.318000078201294, 1.360700011253357, -0.20667000114917755, 2.8629000186920166, 0.7658299803733826, 1.6461000442504883, 0.43931999802589417, 2.066200017929077, -2.463399887084961, -2.7221999168395996, 1.1790000200271606, 0.04144800081849098, 2.224400043487549, 1.7900999784469604, -0.5523800253868103, 2.684499979019165, 3.7042999267578125, -0.5895900130271912, -0.019974999129772186, -1.4174000024795532, -0.4325200021266937, -2.0394999980926514, -5.2667999267578125, 0.7850099802017212, 0.09328100085258484, -0.7709199786186218, 1.9794000387191772, -1.271399974822998, -0.4505600035190582, 2.5462000370025635, 1.479200005531311, -4.390999794006348, -2.6145999431610107, 2.548799991607666, -1.510699987411499, 0.20595000684261322, 1.705199956893921, -0.31624001264572144, -0.7808399796485901, 1.1114000082015991, 4.415299892425537, 5.440999984741211, 4.39139986038208, -2.6410000324249268, 1.0225000381469727, -0.2614400088787079, 3.359999895095825, 2.7056000232696533, -2.1533000469207764, 0.37351998686790466, -0.34431999921798706, 5.056399822235107, -2.878499984741211, -1.6259000301361084, -3.3814001083374023, -0.02938999980688095, -1.6025999784469604, 2.783400058746338, -5.610899925231934, 1.4836000204086304, 5.4882001876831055, -3.407099962234497, 0.9071300029754639, -3.1703999042510986, 1.6337000131607056, -1.385599970817566, -1.8585000038146973, 1.4223999977111816, -0.4955599904060364, 0.5216799974441528, 1.0444999933242798, 1.9230999946594238, -3.8861000537872314, -0.878570020198822, -1.3070000410079956, -0.8260899782180786, -0.3024500012397766, -3.872999906539917, 0.4859200119972229, -1.3467999696731567, 0.7857800126075745, 0.19092999398708344, -6.862800121307373, 2.7032999992370605, -2.8726999759674072, -1.8476999998092651, 3.228800058364868, 2.078200101852417, -1.8446999788284302, 2.1006999015808105, 1.319000005722046, -3.02020001411438, -4.943299770355225, 0.8407300114631653, -2.6417999267578125, -0.09142100065946579, 1.3503999710083008, -1.107699990272522, -0.14207999408245087, -1.670199990272522, -0.48353999853134155, 1.850100040435791, -1.4168000221252441, -0.965719997882843, -0.9716100096702576, -1.9922000169754028, 4.492000102996826, 0.45212000608444214, 0.051715001463890076, -1.5536999702453613, 3.25600004196167, 4.726799964904785, 2.791300058364868, -2.3954999446868896, -1.9742000102996826, -0.6434699892997742, -2.986599922180176, -0.2867099940776825, -0.31314998865127563, 0.27257001399993896, -0.6184999942779541, -0.08070900291204453, 4.808499813079834, -0.8388199806213379, -3.4872000217437744, -1.9937000274658203, -0.4130299985408783, 1.2960000038146973, 3.819999933242798, -2.3970000743865967, 0.07567600160837173, -0.8980399966239929, -2.4686999320983887, 4.092899799346924, -0.8118100166320801, -3.1981000900268555, 4.261099815368652, -2.6092000007629395, -1.166200041770935, -1.6013000011444092, -4.461299896240234, 0.7261199951171875, -2.007200002670288, 3.433000087738037, -0.9936000108718872, 0.09439399838447571, -1.789199948310852, -1.3659000396728516, -0.49277999997138977, -0.6243600249290466, -2.3394999504089355, -2.7867000102996826, 2.8682000637054443, 3.41729998588562, 0.3910900056362152, -0.36232998967170715, 1.1425000429153442, 2.1709001064300537, -2.86080002784729, 0.6037899851799011, 4.307300090789795, -1.7200000286102295, 2.8942999839782715, 2.0608999729156494, 0.5232200026512146, 1.534500002861023, 0.2913399934768677, -1.4345999956130981, 5.239200115203857, 3.2616000175476074, -3.0885000228881836, 3.3717000484466553, 0.15035000443458557, 0.09446000307798386, 0.9274200201034546, 3.763000011444092, -1.5339000225067139, -1.5125000476837158, 1.8680000305175781, 3.690700054168701, -1.8208999633789062, -0.9538499712944031, 2.8461999893188477, 2.77020001411438, 3.3884999752044678, -0.3480300009250641, -3.2016000747680664, 0.40178000926971436, 0.4200499951839447, -4.475100040435791, 5.898399829864502, -1.003100037574768, 5.303100109100342, 0.8344699740409851, -1.5536999702453613, 0.5936099886894226, 0.8482699990272522, 1.0579999685287476, 4.573699951171875, -0.5047299861907959, 2.3127999305725098, -0.16166000068187714, 1.3055000305175781, -0.22946999967098236, -5.976600170135498, -2.9177000522613525, 1.9629000425338745, -2.819499969482422, -2.785799980163574, -1.139299988746643, -3.307300090789795, -0.6973099708557129, 4.323800086975098, -4.423600196838379, 0.321150004863739, -3.9934000968933105, 2.4291999340057373, -2.4814000129699707, 0.20680999755859375, -0.696370005607605, 2.1048998832702637, -0.7997900247573853, 0.4837700128555298, -5.215199947357178, 2.8420000076293945, 3.483099937438965, 2.6902999877929688, 3.3712000846862793, -0.08272600173950195, 2.0450000762939453, -6.275100231170654, 1.222100019454956, -0.13808999955654144, 1.760200023651123, 0.3662799894809723, 3.0924999713897705, 0.8938199877738953, 1.6511000394821167, -0.030054999515414238, 0.9049999713897705, -2.1696999073028564, -2.6422998905181885, 2.2925000190734863, -2.694700002670288, 2.692699909210205, 1.8835999965667725, -0.9730200171470642, 2.061000108718872, -3.405600070953369, -2.8099000453948975, -0.6378600001335144, 4.288700103759766, 0.5930100083351135, 0.991320013999939, -0.8203700184822083] 43.366478\n",
            "cat [3.703200101852417, 4.198200225830078, -5.000199794769287, -11.321999549865723, 0.03170200064778328, -1.0255000591278076, -3.0869998931884766, -3.7327001094818115, 0.5387499928474426, 3.5678999423980713, 6.927599906921387, 1.579300045967102, 0.5118799805641174, 3.186800003051758, 6.15339994430542, -4.894100189208984, -0.29958999156951904, -3.6275999546051025, 2.382499933242798, -1.4401999711990356, -4.757699966430664, 4.3607001304626465, -4.981400012969971, -3.6672000885009766, -1.8051999807357788, -2.188800096511841, -4.287499904632568, 5.571199893951416, -5.287499904632568, -1.8345999717712402, -2.2014999389648438, -0.7709100246429443, -4.826000213623047, 1.246399998664856, -1.7944999933242798, -8.128000259399414, 1.999400019645691, 1.1412999629974365, 3.8032000064849854, -2.8782999515533447, -0.42135998606681824, -4.417699813842773, 7.74560022354126, 4.953499794006348, 1.7402000427246094, 0.18275000154972076, 2.421799898147583, -3.149600028991699, -0.03805699944496155, -2.981800079345703, 0.8339599967002869, 11.531000137329102, 3.5683999061584473, 2.5969998836517334, -2.8438000679016113, 3.2755000591278076, 4.567399978637695, 3.22189998626709, 3.420599937438965, 0.1120000034570694, 0.1030300036072731, -5.839600086212158, 0.46369999647140503, 2.7750000953674316, -5.371300220489502, -5.024700164794922, -2.021199941635132, 0.5877199769020081, 1.1569000482559204, 1.3223999738693237, 4.399400234222412, 2.0443999767303467, 2.1342999935150146, -1.9023000001907349, 2.146899938583374, -2.9084999561309814, 0.4842900037765503, -0.3354400098323822, 1.4484000205993652, -1.5770000219345093, -1.1306999921798706, 2.8320000171661377, 0.6204100251197815, 3.7994000911712646, -0.31161999702453613, -6.922100067138672, 7.134200096130371, 7.244100093841553, -8.932600021362305, -2.7927000522613525, 0.2661300003528595, 0.6754699945449829, 6.729300022125244, -5.812699794769287, 3.1566998958587646, -1.0634000301361084, -1.5733000040054321, 1.3533999919891357, 0.3921799957752228, -8.7076997756958, 0.03422899916768074, 3.3250999450683594, 4.671299934387207, 0.011865000240504742, 0.9834499955177307, -0.05320600047707558, -9.161299705505371, 6.01609992980957, -2.2223000526428223, 2.501499891281128, -0.6070200204849243, -0.036343999207019806, 7.188399791717529, -1.4430999755859375, 2.615600109100342, -1.014799952507019, 4.122499942779541, -1.8472000360488892, 4.629199981689453, -2.650599956512451, -1.8937000036239624, 4.174900054931641, -9.664400100708008, -2.481300115585327, -2.763700008392334, -1.062399983406067, 3.59879994392395, 4.98330020904541, 0.6449900269508362, 0.25784000754356384, 0.9872699975967407, -4.248499870300293, 0.34272000193595886, -2.2269999980926514, -1.8956999778747559, 0.8079599738121033, -2.0264999866485596, -6.182799816131592, -2.237799882888794, 2.8215999603271484, -2.005000114440918, -3.892400026321411, -0.29363998770713806, -1.6128000020980835, -0.6787400245666504, -1.9854999780654907, 0.18220999836921692, 2.1575000286102295, 0.49825000762939453, -1.7325999736785889, 4.788599967956543, 2.9904000759124756, 0.8344699740409851, -4.741700172424316, 2.4697000980377197, 1.375100016593933, 4.535799980163574, 0.6538599729537964, 5.541299819946289, 2.3963000774383545, 1.003100037574768, -0.8066400289535522, -1.412600040435791, 2.8689000606536865, -8.73390007019043, -2.745699882507324, -0.31804999709129333, -0.24483999609947205, 3.711699962615967, -1.8636000156402588, 0.29958999156951904, 0.06506200134754181, -1.5681999921798706, 1.5875999927520752, 0.6922399997711182, -6.773399829864502, 3.1064999103546143, 2.3973000049591064, -3.5137999057769775, 3.446000099182129, 3.4251999855041504, -5.1905999183654785, -0.6937199831008911, 1.94350004196167, -0.15669000148773193, 1.9709999561309814, 0.8774300217628479, -8.310999870300293, -0.4030599892139435, -5.016499996185303, -0.05630899965763092, 4.924900054931641, -7.105299949645996, -5.233799934387207, 2.3534998893737793, -2.5255000591278076, -2.7785000801086426, 5.014900207519531, -2.8405001163482666, -1.8614000082015991, 0.0028818000573664904, 1.3280999660491943, 1.0194000005722046, 3.515500068664551, 0.27970999479293823, 1.3250999450683594, 1.438599944114685, -0.6171900033950806, -2.6863999366760254, -3.9612998962402344, 4.574900150299072, -1.0938999652862549, 1.3288999795913696, -0.9548400044441223, -5.46750020980835, 2.1607000827789307, 0.5071499943733215, 0.1485999971628189, -4.857100009918213, -2.221299886703491, -0.2349800020456314, -4.262899875640869, -0.8700199723243713, 3.3796000480651855, -4.398900032043457, 6.104700088500977, 3.7927000522613525, -6.076000213623047, 3.184000015258789, -0.8310400247573853, -5.401500225067139, -6.291600227355957, 1.2496999502182007, 1.8026000261306763, -3.4535000324249268, -0.21651999652385712, -1.4958000183105469, 0.5794600248336792, 2.250499963760376, 2.0868000984191895, 0.3962100148200989, 1.6075999736785889, 4.063499927520752, -3.408799886703491, -1.059000015258789, -3.6375999450683594, 2.050100088119507, 1.4785000085830688, -1.8905999660491943, -0.26214998960494995, -5.138599872589111, 3.702899932861328, -1.8150999546051025, -3.275899887084961, -5.186600208282471, 0.25485000014305115, -4.5696001052856445, 10.147000312805176, -3.0195000171661377, -2.4639999866485596, 0.7545899748802185, -5.639500141143799, -5.4095001220703125, -2.436300039291382, -0.43922001123428345, -4.091100215911865, -3.519399881362915, 1.8030999898910522, -0.1364399939775467, 6.798999786376953, 5.846099853515625, 0.5345199704170227, 1.104200005531311, 3.5697999000549316, 4.466800212860107, -2.453700065612793, -2.183199882507324, 1.5292999744415283, -1.9414000511169434, -0.08867499977350235, -1.1825000047683716, -3.9995999336242676, 2.8076999187469482, -1.7999999523162842, 4.254499912261963, -1.3812999725341797, -2.292099952697754, 3.7888998985290527, -1.5836999416351318, -0.7207800149917603, 4.7743000984191895, -3.0922999382019043, 8.47089958190918, 0.30131998658180237, -5.617300033569336, -0.5461000204086304, -4.845900058746338, 6.030300140380859, -6.966400146484375, 3.1445000171661377] 63.188496\n",
            "sky [7.152400016784668, 3.035599946975708, -8.704000473022461, 0.9378799796104431, -3.678100109100342, -0.03512800112366676, 1.2568000555038452, 0.024431999772787094, 0.2892400026321411, 4.50540018081665, 6.0218000411987305, -4.202600002288818, 0.0902549996972084, 0.905430018901825, 8.59220027923584, -0.4693000018596649, -1.9101999998092651, -5.698999881744385, 2.198199987411499, -3.7934999465942383, 5.402599811553955, -0.2923299968242645, 0.29350000619888306, -10.114999771118164, -2.622999906539917, -0.6978300213813782, -2.0072999000549316, -13.36400032043457, 1.0707999467849731, 7.377099990844727, -9.140999794006348, -0.015964999794960022, 2.3649001121520996, -11.322999954223633, 1.4294999837875366, 4.353799819946289, -4.006800174713135, 8.423199653625488, 0.5086699724197388, 1.5894999504089355, 0.8428599834442139, -0.299919992685318, 3.488600015640259, -2.144700050354004, 0.11969999969005585, 11.29800033569336, -4.71999979019165, 1.1894999742507935, 0.07404100149869919, 3.509000062942505, 2.4286000728607178, 2.6979000568389893, -4.391300201416016, 5.207799911499023, -0.8043500185012817, 0.21642999351024628, 3.123800039291382, 4.689799785614014, 5.767000198364258, 6.86359977722168, -1.1097999811172485, -1.9996000528335571, -0.5152999758720398, 0.642270028591156, -3.979599952697754, 7.360199928283691, -9.018400192260742, -3.073499917984009, -0.3478100001811981, 2.5920000076293945, 0.5336800217628479, 9.870100021362305, 5.556700229644775, 3.526599884033203, -7.573800086975098, -1.8985999822616577, 3.3406999111175537, -2.370500087738037, -1.5921000242233276, -0.11971999704837799, 8.596400260925293, 0.411080002784729, 4.001800060272217, -2.307800054550171, 1.3602999448776245, 2.906899929046631, 3.469899892807007, 9.183799743652344, -5.28879976272583, -7.458499908447266, -0.8422600030899048, 1.784000039100647, 4.378799915313721, 6.50540018081665, -6.648099899291992, -4.95550012588501, 5.328000068664551, -3.1821000576019287, 8.027999877929688, -9.435199737548828, -7.713200092315674, -3.902899980545044, 4.4029998779296875, -12.687000274658203, -0.3618699908256531, -2.516900062561035, 5.483099937438965, -6.360400199890137, -3.4834001064300537, 5.779300212860107, 0.5889099836349487, 1.5503000020980835, -1.270799994468689, -1.7206000089645386, -2.3285000324249268, 0.37623000144958496, 0.26330000162124634, -4.604700088500977, -1.2573000192642212, -0.8839200139045715, -1.1277999877929688, 1.4490000009536743, -4.154600143432617, 10.319999694824219, -5.290900230407715, -5.75, -1.1543999910354614, -3.873699903488159, 5.777599811553955, -2.1946001052856445, 0.7721400260925293, 1.260699987411499, 1.4478000402450562, -0.4147700071334839, -1.625, -1.1622999906539917, 0.2370299994945526, 2.116300106048584, -2.625, -5.653800010681152, -3.1735000610351562, 1.583400011062622, -8.355899810791016, -0.24320000410079956, 2.5355000495910645, 3.0969998836517334, -3.214600086212158, 2.7464001178741455, -0.6685199737548828, 0.6625900268554688, -5.489500045776367, 0.36761999130249023, -8.690799713134766, -3.3515000343322754, 4.020599842071533, 6.2378997802734375, -4.565199851989746, 0.7665899991989136, 3.876199960708618, -0.04007299989461899, 2.733099937438965, 5.667500019073486, -0.40005001425743103, -1.277500033378601, -1.183500051498413, 0.8602799773216248, -0.7814599871635437, 2.7581000328063965, -3.272599935531616, -4.236499786376953, -4.9156999588012695, 3.8368000984191895, -1.7482999563217163, -9.18649959564209, -3.7181999683380127, -1.1938999891281128, 2.0260000228881836, -2.197999954223633, -1.6466000080108643, -4.4095001220703125, -2.205899953842163, -3.8952999114990234, 1.7237999439239502, 6.396999835968018, 5.684500217437744, 3.553100109100342, 2.6182000637054443, 1.4808000326156616, -0.16783000528812408, -7.82450008392334, 1.639799952507019, 5.830100059509277, -5.259699821472168, -5.3206000328063965, -0.31777000427246094, -2.009999990463257, -0.5745099782943726, 2.606600046157837, -4.186200141906738, 5.9532999992370605, 5.041200160980225, 0.6340500116348267, -0.0123070003464818, 1.1231000423431396, -2.3889999389648438, 3.3926000595092773, 6.875500202178955, -1.8609000444412231, -0.4579299986362457, 0.4921799898147583, 1.881100058555603, -3.040600061416626, -9.18589973449707, 3.729099988937378, -0.6709700226783752, 1.0477999448776245, 7.27839994430542, 3.561199903488159, -6.3694000244140625, -2.7437000274658203, 5.857800006866455, -2.9354000091552734, -4.645599842071533, 2.573899984359741, -0.5524799823760986, -0.5684000253677368, -0.569819986820221, 11.027999877929688, -5.418000221252441, 3.8719000816345215, 2.4811999797821045, -3.7841999530792236, 3.2179999351501465, 3.6477999687194824, -0.15740999579429626, -0.5025399923324585, -7.904399871826172, 1.263800024986267, -0.9498800039291382, -2.7030999660491943, 1.2584999799728394, -5.039700031280518, 4.6031999588012695, -3.79229998588562, 0.6558600068092346, 1.7099000215530396, -5.203400135040283, 5.027400016784668, 1.2353999614715576, -0.8927099704742432, 0.1844100058078766, -2.016400098800659, -0.49154001474380493, -0.384770005941391, -3.3036999702453613, -3.0506999492645264, -1.5563000440597534, 8.470600128173828, 0.5519499778747559, 3.592400074005127, 7.440199851989746, 3.248699903488159, 1.2937999963760376, 3.158900022506714, -8.656200408935547, -4.658599853515625, -9.392800331115723, 6.722400188446045, -11.220999717712402, 0.2437800019979477, 9.214400291442871, 2.968400001525879, -6.500899791717529, -3.0251998901367188, -4.70959997177124, 1.1161999702453613, 4.547399997711182, -1.2333999872207642, -0.7637900114059448, -0.16794000566005707, -4.375199794769287, 1.8487000465393066, 2.0225000381469727, -1.6813000440597534, 3.699700117111206, 0.7702599763870239, -7.23769998550415, -3.6677000522613525, 4.251299858093262, -4.017899990081787, -5.771200180053711, 4.764400005340576, 4.235000133514404, -1.8427000045776367, 0.3694700002670288, 1.316499948501587, 1.1649999618530273, -1.392799973487854, -3.9124999046325684, 0.4848400056362152] 76.302284\n"
          ]
        }
      ],
      "source": [
        "#used example sentency to just check whether this works fine\n",
        "\n",
        "#this is glove embeddings\n",
        "#Spacy uses GLoVE word vectors of 300 dimensions trained on Commoncrawl corpus.\n",
        "\n",
        "import spacy\n",
        "\n",
        "nlp = spacy.load('en_core_web_md')\n",
        "tokens = nlp(\"apple cat sky\")\n",
        "\n",
        "\n",
        "print(tokens.text, len(tokens.vector), tokens.vector_norm) # Only the first three components of the vector\n",
        "print(tokens.vector[0])\n",
        "print(type(tokens.vector))\n",
        "for token in tokens:\n",
        "    print(token.text, (token.vector).tolist(), token.vector_norm)"
      ]
    },
    {
      "cell_type": "markdown",
      "metadata": {},
      "source": [
        "# InferSent"
      ]
    },
    {
      "cell_type": "code",
      "execution_count": 55,
      "metadata": {
        "colab": {
          "base_uri": "https://localhost:8080/"
        },
        "id": "dGXvmVKdgGix",
        "outputId": "a413d7b9-ac27-4532-f73f-41188a1d69e0"
      },
      "outputs": [],
      "source": [
        "#model creation\n",
        "\n",
        "# infersent\n",
        "import torch\n",
        "\n",
        "#we have model.py file in this directory where we have created our InferSent class\n",
        "from models import InferSent\n",
        "\n",
        "V = 2\n",
        "MODEL_PATH = 'encoder/infersent%s.pkl' % V\n",
        "params_model = {'bsize': 64, 'word_emb_dim': 300, 'enc_lstm_dim': 2048,\n",
        "                'pool_type': 'max', 'dpout_model': 0.0, 'version': V}\n",
        "infersent = InferSent(params_model)\n",
        "infersent.load_state_dict(torch.load(MODEL_PATH))\n",
        "\n",
        "#infersent is our model\n",
        "\n",
        "W2V_PATH = 'fastText/crawl-300d-2M.vec'\n",
        "infersent.set_w2v_path(W2V_PATH)"
      ]
    },
    {
      "cell_type": "code",
      "execution_count": 56,
      "metadata": {
        "colab": {
          "base_uri": "https://localhost:8080/"
        },
        "id": "sGV6iEpKwkPU",
        "outputId": "88aed3b6-620b-4e0d-a8b8-98ad3a15c453"
      },
      "outputs": [
        {
          "name": "stdout",
          "output_type": "stream",
          "text": [
            "Found 36(/36) words with w2v vectors\n",
            "Vocab size : 36\n",
            "<class 'numpy.ndarray'>\n",
            "[ 0.00746889 -0.02781818 -0.06682432 ...  0.01568948 -0.06475541\n",
            "  0.01776477]\n",
            "Sentence =  I ate dinner. ; similarity =  0.47384942\n",
            "Sentence =  We had a three-course meal. ; similarity =  0.3102986\n",
            "Sentence =  Brad came to dinner with us. ; similarity =  0.30405694\n",
            "Sentence =  He loves fish tacos. ; similarity =  0.09320724\n",
            "Sentence =  In the end, we all felt like we ate too much. ; similarity =  0.2573072\n",
            "Sentence =  We all agreed; it was a magnificent evening. ; similarity =  0.30879584\n"
          ]
        }
      ],
      "source": [
        "#testing our model on example sentences\n",
        "\n",
        "sentences = [\"I ate dinner.\",\n",
        "       \"We had a three-course meal.\",\n",
        "       \"Brad came to dinner with us.\",\n",
        "       \"He loves fish tacos.\",\n",
        "       \"In the end, we all felt like we ate too much.\",\n",
        "       \"We all agreed; it was a magnificent evening.\"]\n",
        "\n",
        "#building vocabulary on our list of sentences\n",
        "infersent.build_vocab(sentences, tokenize=True)\n",
        "\n",
        "query = \"I had pizza and pasta\"\n",
        "query_vec = infersent.encode([query])[0]\n",
        "print(type(query_vec))\n",
        "print(query_vec)\n",
        "\n",
        "#for infersent\n",
        "\n",
        "similarity = []\n",
        "for sent in sentences:\n",
        "  sim = cosine(query_vec, infersent.encode([sent])[0])\n",
        "  print(\"Sentence = \", sent, \"; similarity = \", sim)"
      ]
    },
    {
      "cell_type": "code",
      "execution_count": null,
      "metadata": {
        "colab": {
          "base_uri": "https://localhost:8080/"
        },
        "id": "I1Y2cxTazosB",
        "outputId": "8a4ee55d-0ab8-40cb-f76d-69415ceda20a"
      },
      "outputs": [
        {
          "name": "stdout",
          "output_type": "stream",
          "text": [
            "Sentence =  I ate dinner. ; similarity =  0.7788746\n",
            "Sentence =  We had a three-course meal. ; similarity =  0.67471653\n",
            "Sentence =  Brad came to dinner with us. ; similarity =  0.5343362\n",
            "Sentence =  He loves fish tacos. ; similarity =  0.6137629\n",
            "Sentence =  In the end, we all felt like we ate too much. ; similarity =  0.6539096\n",
            "Sentence =  We all agreed; it was a magnificent evening. ; similarity =  0.6515491\n"
          ]
        }
      ],
      "source": [
        "#for glove sen2vec\n",
        "\n",
        "similarity = []\n",
        "for sent in sentences:\n",
        "  token = nlp(sent)\n",
        "  sim = cosine(token.vector, query_vec_s2v)\n",
        "  print(\"Sentence = \", sent, \"; similarity = \", sim)"
      ]
    },
    {
      "cell_type": "markdown",
      "metadata": {
        "id": "5aVZ-xhk7ot_"
      },
      "source": [
        "# **Using our infersent model and sen2vec in our dataset**"
      ]
    },
    {
      "cell_type": "markdown",
      "metadata": {},
      "source": [
        "As we have created our InferSent and GloVe model\n",
        "\n",
        "Now time is to run these models on our train dataset\n",
        "\n",
        "So idea is to instead of running one among these two models, we will use both of them.\n",
        "\n",
        "We will generate vectors of our sentence using both our models and then concatenate the vectors to create our final sentence embedding.\n"
      ]
    },
    {
      "cell_type": "markdown",
      "metadata": {
        "id": "CMNrCKyklGab"
      },
      "source": [
        "There are many words - legal-domain specific words that were not present in the default embeddings.\n",
        "\n",
        "So we have to do fine tuning to solve this issue or we can use other models(custom pretrained embeddings) or just use other model that performs better like BERT and FastText\n",
        "\n",
        "Also even stemming and lemmatization can help reduce your number of OOV words.\n",
        "Stemming and lemmatizing can help reduce the number of out-of-vocabulary words to some extent.\n",
        "\n",
        "So lets lemmatize first"
      ]
    },
    {
      "cell_type": "code",
      "execution_count": 36,
      "metadata": {
        "id": "ZLbAMge2lFVo"
      },
      "outputs": [],
      "source": [
        "#lets lemmatize all the words of the dataset\n",
        "from nltk.stem import WordNetLemmatizer\n",
        "from nltk import word_tokenize\n",
        "lemmatizer = WordNetLemmatizer()\n",
        "jgslist = [[(\" \".join([lemmatizer.lemmatize(word) for word in word_tokenize(sent)])) for sent in lst] for lst in jgslist]\n",
        "sumlist = [[(\" \".join([lemmatizer.lemmatize(word) for word in word_tokenize(sent)])) for sent in lst] for lst in sumlist]"
      ]
    },
    {
      "cell_type": "code",
      "execution_count": 37,
      "metadata": {
        "colab": {
          "base_uri": "https://localhost:8080/"
        },
        "id": "-bmJQudaoMxi",
        "outputId": "2badc609-a2f8-42f1-a6de-84e354a786d0"
      },
      "outputs": [
        {
          "name": "stdout",
          "output_type": "stream",
          "text": [
            "Found 61668(/137664) words with w2v vectors\n",
            "Vocab size : 61668\n"
          ]
        }
      ],
      "source": [
        "#So the first step is to build the vocabulary of InferSent model on our dataset.\n",
        "#For that we need to paas all our sentences to the model\n",
        "#so we will first flatten both the jgslist and sumlist into list that contains only sentences, i.e. list of strings\n",
        "#after that concatenate both the lists into one all_sentences list and pass this to build the vocabulary\n",
        "\n",
        "\n",
        "# Flatten the jgslist and sumlist\n",
        "judgement_sentences = [sentence for sublist in jgslist for sentence in sublist]\n",
        "summary_sentences = [sentence for sublist in sumlist for sentence in sublist]\n",
        "\n",
        "# Build the vocabulary\n",
        "# Build the vocabulary\n",
        "all_sentences = judgement_sentences + summary_sentences\n",
        "infersent.build_vocab(all_sentences, tokenize=True)"
      ]
    },
    {
      "cell_type": "markdown",
      "metadata": {
        "id": "rWQB4FzTw5Ly"
      },
      "source": [
        "Still not good"
      ]
    },
    {
      "cell_type": "code",
      "execution_count": null,
      "metadata": {},
      "outputs": [],
      "source": [
        "#finding sentence embeddings for each sentence\n",
        "\n",
        "#lst is a list of sentences of a particular judgement\n",
        "jgsvector = [[(np.concatenate((infersent.encode([sent])[0], (nlp(sent)).vector))).tolist() for sent in lst] for lst in jgslist]\n",
        "\n",
        "#lst is a list of sentences of a particular judgement\n",
        "sumvector = [[(np.concatenate((infersent.encode([sent])[0], (nlp(sent)).vector))).tolist() for sent in lst] for lst in sumlist]"
      ]
    },
    {
      "cell_type": "code",
      "execution_count": 50,
      "metadata": {
        "id": "9oyWk7lBw3vp"
      },
      "outputs": [],
      "source": [
        "# for a particular vector is jgsvector there will be a similarity score\n",
        "# so for vectors in jgsvector[i] we have to compare each vector with vectors in sumvector[i] and add the scores for that vector in jgsvector[i]\n",
        "scores = []\n",
        "for i in range(len(jgsvector)):\n",
        "  temp = []\n",
        "  for j in range(len(jgsvector[i])):\n",
        "    #compare jth sentence with all sentences in sumlist[i] and add scores\n",
        "    score = 0\n",
        "    vect1 = np.array(jgsvector[i][j])\n",
        "    for lst in sumvector[i]:\n",
        "      vect2 = np.array(lst)\n",
        "      score += cosine(vect1,vect2)\n",
        "    temp.append(score)\n",
        "  scores.append(temp)"
      ]
    },
    {
      "cell_type": "code",
      "execution_count": null,
      "metadata": {
        "id": "GAzH7VEOzb4q"
      },
      "outputs": [],
      "source": [
        "#store my scores list, sentence emebeddings in intermediate folder                      \n",
        "# Save data to a pickle file\n",
        "import pickle\n",
        "with open('../intermediate/scores_inferglo.pickle','wb') as file:\n",
        "    pickle.dump(scores, file)\n",
        "\n",
        "with open('../intermediate/jgsvector_inferglo.pickle','wb') as file:\n",
        "    pickle.dump(jgsvector, file)\n",
        "\n",
        "with open('../intermediate/sumvector_inferglo.pickle', 'wb') as file:\n",
        "    pickle.dump(sumvector, file)\n",
        "\n",
        "import os\n",
        "os.system(\"zip ../intermediate/inferglo.zip ../intermediate/scores_inferglo.pickle ../intermediate/jgsvector_inferglo.pickle ../intermediate/sumvector_inferglo.pickle\")\n",
        "os.system(\"rm ../intermediate/scores_inferglo.pickle\")\n",
        "os.system(\"rm ../intermediate/jgsvector_inferglo.pickle\")\n",
        "os.system(\"rm ../intermediate/sumvector_inferglo.pickle\")\n",
        "os.system(\"rm -r GloVe\")\n",
        "os.system(\"rm -r fastText\")\n",
        "os.system(\"rm -r encoder\")"
      ]
    },
    {
      "cell_type": "markdown",
      "metadata": {},
      "source": [
        "# Run the below cell only if you dont want to again use installed models\n",
        "Thats because if you again want to run this notebook it will save time not installing those folders again"
      ]
    }
  ],
  "metadata": {
    "colab": {
      "provenance": []
    },
    "kernelspec": {
      "display_name": "Python 3.9 (pytorch)",
      "language": "python",
      "name": "pytorch"
    },
    "language_info": {
      "codemirror_mode": {
        "name": "ipython",
        "version": 3
      },
      "file_extension": ".py",
      "mimetype": "text/x-python",
      "name": "python",
      "nbconvert_exporter": "python",
      "pygments_lexer": "ipython3",
      "version": "3.9.16"
    }
  },
  "nbformat": 4,
  "nbformat_minor": 0
}
