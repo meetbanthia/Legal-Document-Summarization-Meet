{
 "cells": [
  {
   "cell_type": "code",
   "execution_count": null,
   "metadata": {},
   "outputs": [],
   "source": [
    "!pip install -U sentence-transformers\n"
   ]
  },
  {
   "cell_type": "code",
   "execution_count": 4,
   "metadata": {},
   "outputs": [
    {
     "data": {
      "application/vnd.jupyter.widget-view+json": {
       "model_id": "57eddff909d7495bbefe22409ab25aed",
       "version_major": 2,
       "version_minor": 0
      },
      "text/plain": [
       "Downloading (…)e1ba8/.gitattributes:   0%|          | 0.00/523 [00:00<?, ?B/s]"
      ]
     },
     "metadata": {},
     "output_type": "display_data"
    },
    {
     "data": {
      "application/vnd.jupyter.widget-view+json": {
       "model_id": "7fad7fef18ec4f938f864be8a8287f33",
       "version_major": 2,
       "version_minor": 0
      },
      "text/plain": [
       "Downloading (…)_Pooling/config.json:   0%|          | 0.00/191 [00:00<?, ?B/s]"
      ]
     },
     "metadata": {},
     "output_type": "display_data"
    },
    {
     "data": {
      "application/vnd.jupyter.widget-view+json": {
       "model_id": "94fe3f05fe7e4dbcb042e3cdde70496e",
       "version_major": 2,
       "version_minor": 0
      },
      "text/plain": [
       "Downloading (…)e4bc9e1ba8/README.md:   0%|          | 0.00/3.90k [00:00<?, ?B/s]"
      ]
     },
     "metadata": {},
     "output_type": "display_data"
    },
    {
     "data": {
      "application/vnd.jupyter.widget-view+json": {
       "model_id": "3067d6f9b80a41848581b27e7794cec3",
       "version_major": 2,
       "version_minor": 0
      },
      "text/plain": [
       "Downloading (…)a8/added_tokens.json:   0%|          | 0.00/2.00 [00:00<?, ?B/s]"
      ]
     },
     "metadata": {},
     "output_type": "display_data"
    },
    {
     "data": {
      "application/vnd.jupyter.widget-view+json": {
       "model_id": "3ddc632e0451473882c10c221b200320",
       "version_major": 2,
       "version_minor": 0
      },
      "text/plain": [
       "Downloading (…)bc9e1ba8/config.json:   0%|          | 0.00/616 [00:00<?, ?B/s]"
      ]
     },
     "metadata": {},
     "output_type": "display_data"
    },
    {
     "data": {
      "application/vnd.jupyter.widget-view+json": {
       "model_id": "9c5b8c53b6fc440dbffee7d36eaa5b15",
       "version_major": 2,
       "version_minor": 0
      },
      "text/plain": [
       "Downloading (…)ce_transformers.json:   0%|          | 0.00/122 [00:00<?, ?B/s]"
      ]
     },
     "metadata": {},
     "output_type": "display_data"
    },
    {
     "data": {
      "application/vnd.jupyter.widget-view+json": {
       "model_id": "5bdf4fcb355442398ecfe60a3dbb3acd",
       "version_major": 2,
       "version_minor": 0
      },
      "text/plain": [
       "Downloading pytorch_model.bin:   0%|          | 0.00/1.34G [00:00<?, ?B/s]"
      ]
     },
     "metadata": {},
     "output_type": "display_data"
    },
    {
     "data": {
      "application/vnd.jupyter.widget-view+json": {
       "model_id": "1dfc852e1ab24b3ea219a648d7e19a88",
       "version_major": 2,
       "version_minor": 0
      },
      "text/plain": [
       "Downloading (…)nce_bert_config.json:   0%|          | 0.00/53.0 [00:00<?, ?B/s]"
      ]
     },
     "metadata": {},
     "output_type": "display_data"
    },
    {
     "data": {
      "application/vnd.jupyter.widget-view+json": {
       "model_id": "0fc27fb6ce604d88ab0ef9c8c03faa16",
       "version_major": 2,
       "version_minor": 0
      },
      "text/plain": [
       "Downloading (…)cial_tokens_map.json:   0%|          | 0.00/112 [00:00<?, ?B/s]"
      ]
     },
     "metadata": {},
     "output_type": "display_data"
    },
    {
     "data": {
      "application/vnd.jupyter.widget-view+json": {
       "model_id": "b851678aacb140e8afdfc1dc52c87c22",
       "version_major": 2,
       "version_minor": 0
      },
      "text/plain": [
       "Downloading (…)e1ba8/tokenizer.json:   0%|          | 0.00/466k [00:00<?, ?B/s]"
      ]
     },
     "metadata": {},
     "output_type": "display_data"
    },
    {
     "data": {
      "application/vnd.jupyter.widget-view+json": {
       "model_id": "9e182dff27a041e7be127a3da4836b79",
       "version_major": 2,
       "version_minor": 0
      },
      "text/plain": [
       "Downloading (…)okenizer_config.json:   0%|          | 0.00/379 [00:00<?, ?B/s]"
      ]
     },
     "metadata": {},
     "output_type": "display_data"
    },
    {
     "data": {
      "application/vnd.jupyter.widget-view+json": {
       "model_id": "61bf7e64d1af4a40a14e4e746100d314",
       "version_major": 2,
       "version_minor": 0
      },
      "text/plain": [
       "Downloading (…)e4bc9e1ba8/vocab.txt:   0%|          | 0.00/232k [00:00<?, ?B/s]"
      ]
     },
     "metadata": {},
     "output_type": "display_data"
    },
    {
     "data": {
      "application/vnd.jupyter.widget-view+json": {
       "model_id": "d246807048764d7c90fcb3dff5c0d00b",
       "version_major": 2,
       "version_minor": 0
      },
      "text/plain": [
       "Downloading (…)c9e1ba8/modules.json:   0%|          | 0.00/229 [00:00<?, ?B/s]"
      ]
     },
     "metadata": {},
     "output_type": "display_data"
    },
    {
     "name": "stdout",
     "output_type": "stream",
     "text": [
      "[[-0.43299595 -0.3714706   0.17687373 ... -0.09305624 -0.08572238\n",
      "   0.76898056]\n",
      " [ 0.23253685 -0.98433495 -0.10121927 ... -0.5638486  -0.5230557\n",
      "   0.73915654]]\n"
     ]
    }
   ],
   "source": [
    "from sentence_transformers import SentenceTransformer\n",
    "sentences = [\"This is an example sentence\", \"Each sentence is converted\"]\n",
    "\n",
    "model = SentenceTransformer('sentence-transformers/stsb-bert-large')\n",
    "embeddings = model.encode(sentences)\n",
    "print(embeddings)\n"
   ]
  },
  {
   "cell_type": "code",
   "execution_count": 3,
   "metadata": {},
   "outputs": [
    {
     "data": {
      "text/plain": [
       "0"
      ]
     },
     "execution_count": 3,
     "metadata": {},
     "output_type": "execute_result"
    }
   ],
   "source": [
    "#unzippinf lists_to_use zip to access files inside it\n",
    "from zipfile import ZipFile\n",
    "\n",
    "with ZipFile('../intermediate/lists_to_use.zip', 'r') as f:\n",
    "    f.extractall('../intermediate/')\n",
    "\n",
    "#accessing files\n",
    "import pickle\n",
    "with open('../intermediate/lists_to_use/jl.pickle', 'rb') as file:\n",
    "  jgslist = pickle.load(file)\n",
    "\n",
    "with open('../intermediate/lists_to_use/sl.pickle', 'rb') as file:\n",
    "  sumlist = pickle.load(file)\n",
    "\n",
    "#remove unzipped files\n",
    "import os\n",
    "os.system(\"rm -r ../intermediate/lists_to_use\")"
   ]
  },
  {
   "cell_type": "markdown",
   "metadata": {},
   "source": [
    "1. jgslist and sumlist is a list of list of sentences that is preprocessed\n",
    "2. jgslist[i] is a list that contains sentences of ith judgement\n",
    "3. sumlist[i] is a list that contains sentences of ith judgement's summary\n",
    "4. len(jgslist) = len(sumlist) = 7028 (we have 7028 judgements in our dataset)\n",
    "5. stored jgslist and sumlist in preprocessing.ipynb file present in the root directory"
   ]
  },
  {
   "cell_type": "markdown",
   "metadata": {},
   "source": [
    "Found that lemmatizing our words may reduce chances of OOV words problem"
   ]
  },
  {
   "cell_type": "markdown",
   "metadata": {},
   "source": [
    "Lemmatized each word in our dataset using nltk WordNetLemmatizer"
   ]
  },
  {
   "cell_type": "code",
   "execution_count": 10,
   "metadata": {},
   "outputs": [],
   "source": [
    "import numpy as np\n",
    "def cosine(u, v):\n",
    "    return np.dot(u, v) / (np.linalg.norm(u) * np.linalg.norm(v))"
   ]
  },
  {
   "cell_type": "code",
   "execution_count": 1,
   "metadata": {},
   "outputs": [
    {
     "name": "stderr",
     "output_type": "stream",
     "text": [
      "Some weights of the model checkpoint at bert-base-uncased were not used when initializing BertModel: ['cls.predictions.transform.LayerNorm.weight', 'cls.predictions.bias', 'cls.predictions.transform.dense.bias', 'cls.predictions.transform.dense.weight', 'cls.predictions.transform.LayerNorm.bias', 'cls.seq_relationship.bias', 'cls.seq_relationship.weight']\n",
      "- This IS expected if you are initializing BertModel from the checkpoint of a model trained on another task or with another architecture (e.g. initializing a BertForSequenceClassification model from a BertForPreTraining model).\n",
      "- This IS NOT expected if you are initializing BertModel from the checkpoint of a model that you expect to be exactly identical (initializing a BertForSequenceClassification model from a BertForSequenceClassification model).\n"
     ]
    }
   ],
   "source": [
    "import torch  \n",
    "from transformers import BertTokenizer,BertModel\n",
    "tokenizer = BertTokenizer.from_pretrained('bert-base-uncased')\n",
    "model = BertModel.from_pretrained(\"bert-base-uncased\")"
   ]
  },
  {
   "cell_type": "markdown",
   "metadata": {},
   "source": []
  },
  {
   "cell_type": "code",
   "execution_count": 8,
   "metadata": {},
   "outputs": [],
   "source": [
    "#takes list of strings as a parameter\n",
    "#return list where each element \n",
    "\n",
    "def get_sentence_embeddings(sentences):\n",
    "    # Tokenize the sentences\n",
    "    encoded_inputs = tokenizer(sentences, padding=True, truncation=True, return_tensors='pt')\n",
    "\n",
    "    # Forward pass through the BERT model\n",
    "    with torch.no_grad():\n",
    "        outputs = model(**encoded_inputs)\n",
    "        sentence_embeddings = outputs.last_hidden_state.mean(dim=1)  # Average pooling\n",
    "\n",
    "    return sentence_embeddings.tolist()\n"
   ]
  },
  {
   "cell_type": "code",
   "execution_count": 9,
   "metadata": {},
   "outputs": [
    {
     "data": {
      "text/plain": [
       "list"
      ]
     },
     "execution_count": 9,
     "metadata": {},
     "output_type": "execute_result"
    }
   ],
   "source": [
    "#just checking whether each sentence embedding is correctly converted to list or some other datatype\n",
    "\n",
    "temp = [[\"paper publish\",\"of course\"],[\"NITK Hale Lab\",\"IT cross CSE\"]]\n",
    "tvec = [get_sentence_embeddings(lst) for lst in temp]\n",
    "type(tvec[0][0])"
   ]
  },
  {
   "cell_type": "markdown",
   "metadata": {},
   "source": [
    "Finding vector of each sentences in jgslist and sumlist and storing it in list"
   ]
  },
  {
   "cell_type": "code",
   "execution_count": null,
   "metadata": {},
   "outputs": [],
   "source": [
    "#finding sentence embeddings for each sentence\n",
    "\n",
    "#lst is a list of sentences of a particular judgement\n",
    "jgsvector = [get_sentence_embeddings(lst) for lst in jgslist]\n",
    "\n",
    "#lst is a list of sentences of a particular judgement\n",
    "sumvector = [get_sentence_embeddings(lst) for lst in sumlist]"
   ]
  },
  {
   "cell_type": "code",
   "execution_count": null,
   "metadata": {},
   "outputs": [],
   "source": [
    "# for a particular vector is jgsvector there will be a similarity score\n",
    "# so for vectors in jgsvector[i] we have to compare each vector with vectors in sumvector[i] and add the scores for that vector in jgsvector[i]\n",
    "scores = []\n",
    "for i in range(len(jgsvector)):\n",
    "  temp = []\n",
    "  for j in range(len(jgsvector[i])):\n",
    "    #compare jth sentence with all sentences in sumlist[i] and add scores\n",
    "    score = 0\n",
    "    vect1 = np.array(jgsvector[i][j])\n",
    "    for lst in sumvector[i]:\n",
    "      vect2 = np.array(lst)\n",
    "      score += cosine(vect1,vect2)\n",
    "    temp.append(score)\n",
    "  scores.append(temp)"
   ]
  },
  {
   "cell_type": "code",
   "execution_count": null,
   "metadata": {},
   "outputs": [],
   "source": [
    "#store my scores list, sentence emebeddings in intermediate folder                      \n",
    "# Save data to a pickle file\n",
    "                \n",
    "with open('../intermediate/scores_bert.pickle', 'wb') as file:\n",
    "    pickle.dump(scores, file)\n",
    "\n",
    "with open('../intermediate/jgsvector_bert.pickle', 'wb') as file:\n",
    "    pickle.dump(jgsvector, file)\n",
    "\n",
    "with open('../intermediate/sumvector_bert.pickle', 'wb') as file:\n",
    "    pickle.dump(sumvector, file)\n",
    "\n",
    "\n",
    "import os\n",
    "os.system(\"zip ../intermediate/bert.zip ../intermediate/scores_bert.pickle ../intermediate/jgsvector_bert.pickle ../intermediate/sumvector_bert.pickle\")\n",
    "os.system(\"rm ../intermediate/scores_bert.pickle\")\n",
    "os.system(\"rm ../intermediate/jgsvector_bert.pickle\")\n",
    "os.system(\"rm ../intermediate/sumvector_bert.pickle\")\n"
   ]
  }
 ],
 "metadata": {
  "kernelspec": {
   "display_name": "Python 3.9 (pytorch)",
   "language": "python",
   "name": "pytorch"
  },
  "language_info": {
   "codemirror_mode": {
    "name": "ipython",
    "version": 3
   },
   "file_extension": ".py",
   "mimetype": "text/x-python",
   "name": "python",
   "nbconvert_exporter": "python",
   "pygments_lexer": "ipython3",
   "version": "3.9.16"
  }
 },
 "nbformat": 4,
 "nbformat_minor": 2
}
