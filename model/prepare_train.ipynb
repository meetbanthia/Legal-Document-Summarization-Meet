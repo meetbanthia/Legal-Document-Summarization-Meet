{
 "cells": [
  {
   "cell_type": "code",
   "execution_count": 38,
   "metadata": {},
   "outputs": [],
   "source": [
    "import os\n",
    "import pandas as pd\n",
    "import numpy as np\n",
    "from nltk import wordpunct_tokenize\n",
    "import torch\n",
    "\n",
    "#import preprocessing file\n",
    "import pp"
   ]
  },
  {
   "cell_type": "code",
   "execution_count": 39,
   "metadata": {},
   "outputs": [],
   "source": [
    "asp = {\n",
    "\"NAME\" : 1,\n",
    "\"CITATION\" : 2,\n",
    "\"COUNSEL\" : 3,\n",
    "\"JUDGE\" : 4,\n",
    "\"FACTS\" : 5,\n",
    "\"RLC\" : 6,\n",
    "\"REASONING\" : 7,\n",
    "\"ARG\" : 8,\n",
    "\"STATUTE\" : 9,\n",
    "\"PRECEDENT\" : 10,\n",
    "\"RPC\" : 11,\n",
    "\"ISSUE\" : 12\n",
    "}"
   ]
  },
  {
   "cell_type": "code",
   "execution_count": 40,
   "metadata": {},
   "outputs": [],
   "source": [
    "x = []\n",
    "y = []\n",
    "no_of_files = 10"
   ]
  },
  {
   "cell_type": "code",
   "execution_count": 41,
   "metadata": {},
   "outputs": [],
   "source": [
    "for i in range(1,no_of_files+1):\n",
    "    annpath = f'../labelled_data/{i}.csv'\n",
    "    df = pd.read_csv(annpath)\n",
    "    df = df.dropna(subset='Sentence',how='all')\n",
    "\n",
    "    #now each row in df has some value and are not empty\n",
    "    text = []\n",
    "    for index,row in df.iterrows():\n",
    "        text.append(row['Sentence'])\n",
    "    x.append(pp.preprocess(text))\n",
    "    temp = []\n",
    "    for index, row in df.iterrows():\n",
    "        if pd.isna(row['Labels']):\n",
    "            dum = [0]\n",
    "        else:\n",
    "            dum = []\n",
    "            for word in wordpunct_tokenize(row['Labels']):\n",
    "                if word in asp:\n",
    "                    dum.append(asp[word])\n",
    "            if len(dum)==0:\n",
    "                dum.append(0)\n",
    "        temp.append(dum)\n",
    "    y.append(temp)"
   ]
  },
  {
   "cell_type": "code",
   "execution_count": 42,
   "metadata": {},
   "outputs": [],
   "source": [
    "for i in range(0,10):\n",
    "    if len(x[i])!=len(y[i]):\n",
    "        print(i)"
   ]
  },
  {
   "cell_type": "code",
   "execution_count": 43,
   "metadata": {},
   "outputs": [
    {
     "name": "stderr",
     "output_type": "stream",
     "text": [
      "Some weights of the model checkpoint at law-ai/InLegalBERT were not used when initializing BertModel: ['cls.predictions.decoder.bias', 'cls.predictions.transform.LayerNorm.bias', 'cls.predictions.bias', 'cls.predictions.transform.dense.bias', 'cls.seq_relationship.bias', 'cls.seq_relationship.weight', 'cls.predictions.transform.dense.weight', 'cls.predictions.transform.LayerNorm.weight', 'cls.predictions.decoder.weight']\n",
      "- This IS expected if you are initializing BertModel from the checkpoint of a model trained on another task or with another architecture (e.g. initializing a BertForSequenceClassification model from a BertForPreTraining model).\n",
      "- This IS NOT expected if you are initializing BertModel from the checkpoint of a model that you expect to be exactly identical (initializing a BertForSequenceClassification model from a BertForSequenceClassification model).\n"
     ]
    }
   ],
   "source": [
    "from transformers import AutoTokenizer, AutoModel\n",
    "tokenizer = AutoTokenizer.from_pretrained(\"law-ai/InLegalBERT\")\n",
    "model = AutoModel.from_pretrained(\"law-ai/InLegalBERT\")"
   ]
  },
  {
   "cell_type": "code",
   "execution_count": 44,
   "metadata": {},
   "outputs": [],
   "source": [
    "#Now there are some sentences in x which should not be included in \n",
    "#summary and thus we have to mark its corresponding y as 0\n",
    "\n",
    "#Use of sentence similarity\n",
    "similarity = []\n",
    "for i in range(0,no_of_files):\n",
    "    # x[i] is list of preprocessed sentences present in {i+1}.txt judgement\n",
    "\n",
    "    sim = []\n",
    "    #need to calculate similarity of each sentence with summary\n",
    "    for jgs in x[i]:\n",
    "        #finding sentence embedding of jgs\n",
    "        encoded_input = tokenizer(jgs, return_tensors='pt')\n",
    "        with torch.no_grad():\n",
    "            output = model(**encoded_input) \n",
    "        last_hidden_state = output.last_hidden_state[:, 0, :]\n",
    "        jgsvect = last_hidden_state\n",
    "\n",
    "        #find cosine similarity between jgs and all sentences in corresponding summary\n",
    "        simi = 0\n",
    "        sumpath = f'../dataset/train-data/summary/{i+1}.txt'\n",
    "        text = []\n",
    "        with open(sumpath,'r') as file:\n",
    "            for line in file:\n",
    "                text.append(line.strip())\n",
    "        file = pp.preprocess(text)\n",
    "        for line in file:\n",
    "            #finding sentence embedding of sumline\n",
    "            encoded_input = tokenizer(line, return_tensors='pt')\n",
    "            with torch.no_grad():\n",
    "                output = model(**encoded_input)\n",
    "            last_hidden_state = output.last_hidden_state[:, 0, :]\n",
    "            sumvect = last_hidden_state\n",
    "            simi += torch.nn.functional.cosine_similarity(sumvect, jgsvect, dim=1)\n",
    "        sim.append(simi)\n",
    "    similarity.append(sim)"
   ]
  },
  {
   "cell_type": "code",
   "execution_count": 52,
   "metadata": {},
   "outputs": [],
   "source": [
    "import pickle\n",
    "# Save data to a pickle file\n",
    "with open('../intermediate/x.pickle', 'wb') as file:\n",
    "    pickle.dump(x, file)\n",
    "\n",
    "with open('../intermediate/y.pickle', 'wb') as file:\n",
    "    pickle.dump(y, file)\n",
    "\n",
    "with open('../intermediate/similarity.pickle', 'wb') as file:\n",
    "    pickle.dump(similarity, file)\n"
   ]
  },
  {
   "cell_type": "code",
   "execution_count": 61,
   "metadata": {},
   "outputs": [],
   "source": [
    "with open('../intermediate/x.pickle','rb') as file:\n",
    "    x = pickle.load(file)\n",
    "with open('../intermediate/y.pickle','rb') as file:\n",
    "    y = pickle.load(file)\n",
    "with open('../intermediate/similarity.pickle','rb') as file:\n",
    "    similarity = pickle.load(file)"
   ]
  },
  {
   "cell_type": "code",
   "execution_count": 62,
   "metadata": {},
   "outputs": [],
   "source": [
    "for i in range(0,no_of_files):\n",
    "    dict = {1 : [], 2 : [], 3 : [], 4 : [], 5 : [], 6 : [], 7 : [], 8 : [], 9 : [], 10 : [], 11 : [], 12 : []}\n",
    "    \n",
    "    #for each sentences in x[i]\n",
    "    for j in range(len(x[i])):\n",
    "        #x[i][j] is the jth sentence in ith judgement\n",
    "        # y[i][j] is a list containing labels\n",
    "        for label in y[i][j]:\n",
    "            if label!=0:\n",
    "                dict[label].append([similarity[i][j],j])\n",
    "    \n",
    "    #stored values in dict\n",
    "    #now for each dict[key] i will take last some k values and map rest other with 0\n",
    "    for key in dict:\n",
    "        lst = dict[key]\n",
    "        sorted_list = sorted(lst, key=lambda x: x[0], reverse=True)\n",
    "        sz = len(sorted_list)\n",
    "        if sz<=1:\n",
    "            continue\n",
    "        else:\n",
    "            #take first len/2 elements only i.e from 0 to len/2-1\n",
    "            for k in range(sz//2, sz):\n",
    "                y[i][sorted_list[k][1]].remove(key)\n",
    "                if len(y[i][sorted_list[k][1]])==0:\n",
    "                    y[i][sorted_list[k][1]].append(0)"
   ]
  },
  {
   "cell_type": "code",
   "execution_count": 64,
   "metadata": {},
   "outputs": [],
   "source": [
    "with open('../intermediate/Y.pickle', 'wb') as file:\n",
    "    pickle.dump(y, file)"
   ]
  }
 ],
 "metadata": {
  "kernelspec": {
   "display_name": "Python 3.9 (pytorch)",
   "language": "python",
   "name": "pytorch"
  },
  "language_info": {
   "codemirror_mode": {
    "name": "ipython",
    "version": 3
   },
   "file_extension": ".py",
   "mimetype": "text/x-python",
   "name": "python",
   "nbconvert_exporter": "python",
   "pygments_lexer": "ipython3",
   "version": "3.9.16"
  },
  "orig_nbformat": 4
 },
 "nbformat": 4,
 "nbformat_minor": 2
}
