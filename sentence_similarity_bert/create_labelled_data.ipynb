{
 "cells": [
  {
   "cell_type": "code",
   "execution_count": null,
   "metadata": {},
   "outputs": [],
   "source": [
    "#unzippinf lists_to_use zip to access files inside it\n",
    "from zipfile import ZipFile\n",
    "\n",
    "with ZipFile('../intermediate/legbert.zip', 'r') as f:\n",
    "    f.extractall('../intermediate/')\n",
    "\n",
    "import pickle\n",
    "with open('../intermediate/legbert/scores_legbert.pickle','rb') as file:\n",
    "    scores = pickle.load(file)\n",
    "\n",
    "with open('../intermediate/legbert/jgsvector_legbert.pickle','rb') as file:\n",
    "    x = pickle.load(file)\n",
    "\n",
    "import os\n",
    "os.system(\"rm -r ../intermediate/legbert\")"
   ]
  },
  {
   "cell_type": "code",
   "execution_count": null,
   "metadata": {},
   "outputs": [],
   "source": [
    "#10% percent of judgements sentences will be lablled as 1\n",
    "#Rest all as 0\n",
    "import numpy as np\n",
    "y = []\n",
    "for i in range(len(scores)):\n",
    "    #x[i] is a list of vectors\n",
    "    k = len(scores[i])//10\n",
    "    if k==0:\n",
    "        k=1\n",
    "    temp = [0]*len(scores[i])\n",
    "    top_indices = np.argsort(scores[i])[-k:]\n",
    "    for index in top_indices:\n",
    "        temp[index] = 1\n",
    "    y.append(temp)"
   ]
  },
  {
   "cell_type": "code",
   "execution_count": null,
   "metadata": {},
   "outputs": [],
   "source": [
    "#Lets create a dataframe for our labelled data\n",
    "# columns = [index , judgement_vector, label]\n",
    "import pandas as pd\n",
    "\n",
    "data = []\n",
    "\n",
    "for i in range(len(y)):\n",
    "    temp = [0]\n",
    "    for j in range(len(y[i])):\n",
    "        temp.append(x[i][j])\n",
    "        temp.append(y[i][j])\n",
    "        data.append(temp)\n",
    "\n",
    "columns = ['Index', 'judgement_vector', 'Label']\n",
    "\n",
    "df = pd.DataFrame(data, columns=columns)\n"
   ]
  },
  {
   "cell_type": "code",
   "execution_count": null,
   "metadata": {},
   "outputs": [],
   "source": [
    "with open('../intermediate/dataframe.pickle', 'wb') as file:\n",
    "    pickle.dump(df, file)"
   ]
  }
 ],
 "metadata": {
  "kernelspec": {
   "display_name": "Python 3.9 (pytorch)",
   "language": "python",
   "name": "pytorch"
  },
  "language_info": {
   "codemirror_mode": {
    "name": "ipython",
    "version": 3
   },
   "file_extension": ".py",
   "mimetype": "text/x-python",
   "name": "python",
   "nbconvert_exporter": "python",
   "pygments_lexer": "ipython3",
   "version": "3.9.16"
  },
  "orig_nbformat": 4
 },
 "nbformat": 4,
 "nbformat_minor": 2
}
