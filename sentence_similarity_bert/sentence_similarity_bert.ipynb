{
 "cells": [
  {
   "cell_type": "code",
   "execution_count": 10,
   "metadata": {},
   "outputs": [],
   "source": [
    "from zipfile import ZipFile\n",
    "\n",
    "with ZipFile('../intermediate/lists_to_use.zip', 'r') as f:\n",
    "    f.extractall('../intermediate/')"
   ]
  },
  {
   "cell_type": "code",
   "execution_count": 11,
   "metadata": {},
   "outputs": [],
   "source": [
    "import pickle\n",
    "with open('../intermediate/jgslist_latest.pickle', 'rb') as file:\n",
    "  jgslist = pickle.load(file)\n",
    "\n",
    "with open('../intermediate/sumlist_new.pickle', 'rb') as file:\n",
    "  sumlist = pickle.load(file)"
   ]
  },
  {
   "cell_type": "markdown",
   "metadata": {},
   "source": [
    "1. jgslist and sumlist is a list of list of sentences that is preprocessed\n",
    "2. jgslist[i] is a list that contains sentences of ith judgement\n",
    "3. sumlist[i] is a list that contains sentences of ith judgement's summary\n",
    "4. len(jgslist) = len(sumlist) = 7028 (we have 7028 judgements in our dataset)\n",
    "5. stored jgslist and sumlist in preprocessing.ipynb file present in the root directory"
   ]
  },
  {
   "cell_type": "markdown",
   "metadata": {},
   "source": [
    "Found that lemmatizing our words may reduce chances of OOV words problem"
   ]
  },
  {
   "cell_type": "markdown",
   "metadata": {},
   "source": [
    "Lemmatized each word in our dataset using nltk WordNetLemmatizer"
   ]
  },
  {
   "cell_type": "code",
   "execution_count": 5,
   "metadata": {},
   "outputs": [],
   "source": [
    "#lets lemmatize all the words of the dataset\n",
    "from nltk.stem import WordNetLemmatizer\n",
    "from nltk import word_tokenize\n",
    "lemmatizer = WordNetLemmatizer()\n",
    "jgslist = [[(\" \".join([lemmatizer.lemmatize(word) for word in word_tokenize(sent)])) for sent in lst] for lst in jgslist]\n",
    "sumlist = [[(\" \".join([lemmatizer.lemmatize(word) for word in word_tokenize(sent)])) for sent in lst] for lst in sumlist]"
   ]
  },
  {
   "cell_type": "code",
   "execution_count": null,
   "metadata": {},
   "outputs": [],
   "source": [
    "import numpy as np\n",
    "def cosine(u, v):\n",
    "    return np.dot(u, v) / (np.linalg.norm(u) * np.linalg.norm(v))"
   ]
  },
  {
   "cell_type": "code",
   "execution_count": null,
   "metadata": {},
   "outputs": [],
   "source": [
    "import torch  \n",
    "from transformers import BertTokenizer,BertModel\n",
    "tokenizer = BertTokenizer.from_pretrained('bert-base-uncased') \n",
    "model = BertModel.from_pretrained(\"bert-base-uncased\")"
   ]
  },
  {
   "cell_type": "code",
   "execution_count": 11,
   "metadata": {},
   "outputs": [],
   "source": [
    "#takes list of strings as a parameter\n",
    "#return list where each element \n",
    "\n",
    "def get_sentence_embeddings(sentences):\n",
    "    # Tokenize the sentences\n",
    "    encoded_inputs = tokenizer(sentences, padding=True, truncation=True, return_tensors='pt')\n",
    "\n",
    "    # Forward pass through the BERT model\n",
    "    with torch.no_grad():\n",
    "        outputs = model(**encoded_inputs)\n",
    "        sentence_embeddings = outputs.last_hidden_state.mean(dim=1)  # Average pooling\n",
    "\n",
    "    return sentence_embeddings.tolist()\n"
   ]
  },
  {
   "cell_type": "code",
   "execution_count": 21,
   "metadata": {},
   "outputs": [
    {
     "data": {
      "text/plain": [
       "list"
      ]
     },
     "execution_count": 21,
     "metadata": {},
     "output_type": "execute_result"
    }
   ],
   "source": [
    "#just checking whether each sentence embedding is correctly converted to list or some other datatype\n",
    "\n",
    "temp = [[\"paper publish\",\"of course\"],[\"NITK Hale Lab\",\"IT cross CSE\"]]\n",
    "tvec = [get_sentence_embeddings(lst) for lst in temp]\n",
    "type(tvec[0][0])"
   ]
  },
  {
   "cell_type": "markdown",
   "metadata": {},
   "source": [
    "Finding vector of each sentences in jgslist and sumlist and storing it in list"
   ]
  },
  {
   "cell_type": "code",
   "execution_count": 11,
   "metadata": {},
   "outputs": [],
   "source": [
    "#finding sentence embeddings for each sentence\n",
    "\n",
    "#lst is a list of sentences of a particular judgement\n",
    "jgsvector = [get_sentence_embeddings(lst) for lst in jgslist]\n",
    "\n",
    "#lst is a list of sentences of a particular judgement\n",
    "sumvector = [get_sentence_embeddings(lst) for lst in sumlist]"
   ]
  },
  {
   "cell_type": "code",
   "execution_count": null,
   "metadata": {},
   "outputs": [],
   "source": [
    "# for a particular vector is jgsvector there will be a similarity score\n",
    "# so for vectors in jgsvector[i] we have to compare each vector with vectors in sumvector[i] and add the scores for that vector in jgsvector[i]\n",
    "\n",
    "scores = []\n",
    "for i in range(len(jgsvector)):\n",
    "  temp = []\n",
    "  for j in range(len(jgsvector[i])):\n",
    "    #compare jth sentence with all sentences in sumlist[i] and add scores\n",
    "    score = 0\n",
    "    vect1 = np.array(jgsvector[i][j])\n",
    "    for lst in sumvector[i]:\n",
    "      vect2 = np.array(lst)\n",
    "      score += cosine(vect1,vect2)\n",
    "    temp.append(score)\n",
    "  scores.append(temp)"
   ]
  },
  {
   "cell_type": "code",
   "execution_count": null,
   "metadata": {},
   "outputs": [],
   "source": [
    "#store my scores list, sentence emebeddings in intermediate folder                      \n",
    "# Save data to a pickle file\n",
    "                \n",
    "with open('../intermediate/scores_bert.pickle', 'wb') as file:\n",
    "    pickle.dump(scores, file)\n",
    "\n",
    "with open('../intermediate/jgsvector_bert.pickle', 'wb') as file:\n",
    "    pickle.dump(jgsvector, file)\n",
    "\n",
    "with open('../intermediate/sumvector_bert.pickle', 'wb') as file:\n",
    "    pickle.dump(sumvector, file)"
   ]
  }
 ],
 "metadata": {
  "kernelspec": {
   "display_name": "Python 3.9 (pytorch)",
   "language": "python",
   "name": "pytorch"
  },
  "language_info": {
   "codemirror_mode": {
    "name": "ipython",
    "version": 3
   },
   "file_extension": ".py",
   "mimetype": "text/x-python",
   "name": "python",
   "nbconvert_exporter": "python",
   "pygments_lexer": "ipython3",
   "version": "3.9.16"
  }
 },
 "nbformat": 4,
 "nbformat_minor": 2
}
