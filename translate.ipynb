{
 "cells": [
  {
   "cell_type": "code",
   "execution_count": 2,
   "metadata": {},
   "outputs": [],
   "source": [
    "import pandas as pd"
   ]
  },
  {
   "cell_type": "code",
   "execution_count": 7,
   "metadata": {},
   "outputs": [],
   "source": [
    "df = pd.read_csv('final.csv',sep=',',names=['label','sentence'])\n",
    "df = df.drop(0)"
   ]
  },
  {
   "cell_type": "code",
   "execution_count": 11,
   "metadata": {},
   "outputs": [],
   "source": [
    "cateogories = df.label.unique() \n",
    "\n",
    "asp = {\n",
    "\"NAME\" : 1,\n",
    "\"CITATION\" : 2,\n",
    "\"COUNSEL\" : 3,\n",
    "\"JUDGE\" : 4,\n",
    "\"FACTS\" : 5,\n",
    "\"RLC\" : 6,\n",
    "\"REASONING\" : 7,\n",
    "\"ARG\" : 8,\n",
    "\"STATUTE\" : 9,\n",
    "\"PRECEDENT\" : 10,\n",
    "\"RPC\" : 11,\n",
    "}"
   ]
  },
  {
   "cell_type": "code",
   "execution_count": 16,
   "metadata": {},
   "outputs": [
    {
     "name": "stdout",
     "output_type": "stream",
     "text": [
      "label\n",
      "REASONING    3291\n",
      "FACTS        1458\n",
      "PRECEDENT     271\n",
      "RPC           242\n",
      "STATUTE       176\n",
      "RLC           171\n",
      "COUNSEL       128\n",
      "ARG           121\n",
      "JUDGE          64\n",
      "CITATION       60\n",
      "NAME           59\n",
      "Name: count, dtype: int64\n"
     ]
    }
   ],
   "source": [
    "label_counts = df['label'].value_counts()\n",
    "print(label_counts)"
   ]
  },
  {
   "cell_type": "code",
   "execution_count": null,
   "metadata": {},
   "outputs": [],
   "source": []
  }
 ],
 "metadata": {
  "kernelspec": {
   "display_name": "Python 3.9 (pytorch)",
   "language": "python",
   "name": "pytorch"
  },
  "language_info": {
   "codemirror_mode": {
    "name": "ipython",
    "version": 3
   },
   "file_extension": ".py",
   "mimetype": "text/x-python",
   "name": "python",
   "nbconvert_exporter": "python",
   "pygments_lexer": "ipython3",
   "version": "3.9.16"
  }
 },
 "nbformat": 4,
 "nbformat_minor": 2
}
