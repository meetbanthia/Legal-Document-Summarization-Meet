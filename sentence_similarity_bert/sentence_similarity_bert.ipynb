{
 "cells": [
  {
   "cell_type": "code",
   "execution_count": 9,
   "metadata": {},
   "outputs": [
    {
     "name": "stdout",
     "output_type": "stream",
     "text": [
      "Python Platform: macOS-12.3.1-arm64-arm-64bit\n",
      "PyTorch Version: 2.1.0.dev20230717\n",
      "\n",
      "Python 3.9.16 | packaged by conda-forge | (main, Feb  1 2023, 21:38:11) \n",
      "[Clang 14.0.6 ]\n",
      "Pandas 2.0.3\n",
      "Scikit-Learn 1.3.0\n",
      "GPU is NOT AVAILABLE\n",
      "MPS (Apple Metal) is AVAILABLE\n",
      "Target device is mps\n"
     ]
    }
   ],
   "source": [
    "import sys\n",
    "import platform\n",
    "import torch\n",
    "import pandas as pd\n",
    "import sklearn as sk\n",
    "\n",
    "has_gpu = torch.cuda.is_available()\n",
    "has_mps = torch.backends.mps.is_built()  # Update this line\n",
    "device = \"mps\" if has_mps else \"gpu\" if has_gpu else \"cpu\"  # Update this line\n",
    "\n",
    "print(f\"Python Platform: {platform.platform()}\")\n",
    "print(f\"PyTorch Version: {torch.__version__}\")\n",
    "print()\n",
    "print(f\"Python {sys.version}\")\n",
    "print(f\"Pandas {pd.__version__}\")\n",
    "print(f\"Scikit-Learn {sk.__version__}\")\n",
    "print(\"GPU is\", \"available\" if has_gpu else \"NOT AVAILABLE\")\n",
    "print(\"MPS (Apple Metal) is\", \"AVAILABLE\" if has_mps else \"NOT AVAILABLE\")\n",
    "print(f\"Target device is {device}\")"
   ]
  },
  {
   "cell_type": "code",
   "execution_count": 10,
   "metadata": {},
   "outputs": [],
   "source": [
    "import pickle\n",
    "with open('/Users/meetbanthia/Documents/HaleLab/jgslist_latest.pickle', 'rb') as file:\n",
    "  jgslist = pickle.load(file)\n",
    "\n",
    "with open('/Users/meetbanthia/Documents/HaleLab/sumlist_new.pickle', 'rb') as file:\n",
    "  sumlist = pickle.load(file)"
   ]
  },
  {
   "cell_type": "code",
   "execution_count": 11,
   "metadata": {},
   "outputs": [
    {
     "data": {
      "text/plain": [
       "['purchased land gili teppa nanjappa pendency land acquisi tion proceedings city bangalore improvement 1945',\n",
       " 'acquisition building house colony housing board whose statutory responsibility implement housing schemesection challenged acquisition filing writ petition',\n",
       " 'dismissed writ petition',\n",
       " 'special leave contended',\n",
       " 'non compliance mandatory requirement 16 requires service notice every person whose name appears land revenue register primarily liable pay property land revenue',\n",
       " '15 3 provides main scheme provide construction buildings proper working classes including whole part classes displaced execution scheme',\n",
       " 'whose land acquired displaced entitled allotment land construction building',\n",
       " 'residence',\n",
       " 'dismissing evidence rightly revenue register names predecessors title giliteppa nanjappa shown given due notice',\n",
       " 'document produced revenue register contemplated 16',\n",
       " '167a c f 15 3 impose compulsory duty right claim plot',\n",
       " 'clear rule 10 person displaced acquisition accomodated',\n",
       " 'however benefi cient consideration necessary obligation',\n",
       " '168a c observed land available fulfils criteria prescribed rules consider claim']"
      ]
     },
     "execution_count": 11,
     "metadata": {},
     "output_type": "execute_result"
    }
   ],
   "source": [
    "sumlist[0]"
   ]
  },
  {
   "cell_type": "code",
   "execution_count": 12,
   "metadata": {},
   "outputs": [
    {
     "data": {
      "text/plain": [
       "['judgment dated 21st sept 1967 mysore writ petition number 1168 65',\n",
       " 'n nettar k regulation nagaraja respondentsection 166 judgment delivered krishna iyer judge two short legal issues apparently devoid merit urged unsuccessfully repeated somewhat similar fate us ii anticipate conclusion',\n",
       " 'judgment affirma tion usefully abbreviation brief ly deal shri gupta twin submissions behalf writ petitioner',\n",
       " 'special leave subject matter land compulsorily acquired city bangalore improvement 1945 short improvement mysore v 1945',\n",
       " 'concise narration necessary facts conven iently compressed paragraph two',\n",
       " 'purchased two portions number 211 within district bangalore two persons giliteppa nanjappa pendency land acquisition proceedings improvement',\n",
       " 'proceedings acquisition land number 211 making lay plan building colony',\n",
       " 'limited objective completed due formalities complied thereafter land housing board whose statutory responsibili ty implement housing schemesection told houses built land already although doubt whether 5 acres total extent still remain vacant',\n",
       " 'contentions sound whole scheme shot disaster socially conscious try avert unless com pelled fundamental legal lawsection alleged vital weaknesses acquisition proceedings vitiate altogether',\n",
       " 'firstly technicality technically countered secondly compassionate consideration invalidatory effect',\n",
       " 'urged us 16 improvement mandatory requirement service notices effected every person whose name appears',\n",
       " 'land revenue register primarily liable pay property land revenue assessment',\n",
       " 'perempto ry mandate complied first vital flaw pressed usection second contention based upon 15 3 improvement whereunder every improvement scheme provide construction buildings accommodation poorer working classes including whole part classes displaced execution scheme',\n",
       " 'clothes capacity displaced person right allotment land construction building residence',\n",
       " 'make short work first point straightway obligation 16 serve notices persons whose names appear land revenue register primarily liable pay land revenue assessment',\n",
       " 'apart burden prove vendors persons whose names borne land revenue register',\n",
       " 'cer tainly notice given khatedarsection return respondents states notified khatedars notified acquisition',\n",
       " 'exhibit r produced alongwith return shows somayaji khatedar vendors',\n",
       " 'disputed point investi gated thoroughness intimate acquaintance local revenue laws elicits appreciation',\n",
       " 'considering documentary evidence adduced authoritative revenue laws bearing subject scanning meaning entries extracts learned judges reached conclusion khatta produced mere tentative compilation information transmitted revenue de partment inams abolition department khetwar patrak land revenue register within meaning 16 improvement',\n",
       " 'concluded opinion land revenue register 16 refers register lands khetwar patrak register khatta something different',\n",
       " 'full discussion crystallized conclusions thus even though person occupant sense word understood long proved name appears land revenue register material point time pronounce validity acquisition publication declaration 18 slender foundation insufficient material certified copy tentative khata referred',\n",
       " 'indeed produced wrong documents cute misled evident observation emerges discussion far land revenue register register lands khetwar patrak maintained form number set volume mysore village manual page 8 us either register lands certified copy exlplanation offered us petitioner obtain copy register produce',\n",
       " 'hearing shri gupte length disposed dislodged finding painstakingly recorded',\n",
       " 'first point failsection 168 point seriously pressed us shri gupte 15 3 obligation part board trustees provide plot displaced',\n",
       " 'nothing 15 3 improvement warrantsection compulsive duty creates right claim plot',\n",
       " 'course board consider providing land persons acquisitions',\n",
       " 'clear rules allotment sitesection rule 10 settles principle selection applicants allotment sitesection rule 10 reads 10',\n",
       " 'principles selection applicants allotment sitesection board consider applicant merits regard following principles making selection fixing priority allotment applicants whose lands houses acquired board provided otherwise qualified allotment ii status applicant whether married single dependent children iii income applicant capacity purchase site build house thereon residence iv number years applicant waiting allotment site fact secure site earlier though eligible applied site',\n",
       " 'facts us lands acquired already transferred housing board houses al ready built least substantial part land',\n",
       " 'say stage regard compassionate factor lands acquired perhaps displaced entirety building sites fair gesture part housing board vacant lands still avail able stay granted strongly suggestive land still available built upon consider claim applies within three months today allotment site house subject course eligibility allotment criteria comparative evaluation claims prescribed rules behalf',\n",
       " 'view already taken merits substantive points 169 called upon consider deadly effect delay dates acquisition notifica tion institution writ petition',\n",
       " 'dismissed consideration conspectus circumstances present direct par ties bear costs throughout']"
      ]
     },
     "execution_count": 12,
     "metadata": {},
     "output_type": "execute_result"
    }
   ],
   "source": [
    "jgslist[0]"
   ]
  },
  {
   "cell_type": "markdown",
   "metadata": {},
   "source": [
    "We have found that lemmatizing our words may reduce chances of OOVs problem"
   ]
  },
  {
   "cell_type": "code",
   "execution_count": 13,
   "metadata": {},
   "outputs": [],
   "source": [
    "#lets lemmatize all the words of the dataset\n",
    "from nltk.stem import WordNetLemmatizer\n",
    "from nltk import word_tokenize\n",
    "lemmatizer = WordNetLemmatizer()\n",
    "jgslist = [[(\" \".join([lemmatizer.lemmatize(word) for word in word_tokenize(sent)])) for sent in lst] for lst in jgslist]\n",
    "sumlist = [[(\" \".join([lemmatizer.lemmatize(word) for word in word_tokenize(sent)])) for sent in lst] for lst in sumlist]"
   ]
  },
  {
   "cell_type": "code",
   "execution_count": 6,
   "metadata": {
    "scrolled": true
   },
   "outputs": [
    {
     "data": {
      "text/plain": [
       "['judgment dated 21st sept 1967 mysore writ petition number 1168 65',\n",
       " 'n nettar k regulation nagaraja respondentsection 166 judgment delivered krishna iyer judge two short legal issue apparently devoid merit urged unsuccessfully repeated somewhat similar fate u ii anticipate conclusion',\n",
       " 'judgment affirma tion usefully abbreviation brief ly deal shri gupta twin submission behalf writ petitioner',\n",
       " 'special leave subject matter land compulsorily acquired city bangalore improvement 1945 short improvement mysore v 1945',\n",
       " 'concise narration necessary fact conven iently compressed paragraph two',\n",
       " 'purchased two portion number 211 within district bangalore two person giliteppa nanjappa pendency land acquisition proceeding improvement',\n",
       " 'proceeding acquisition land number 211 making lay plan building colony',\n",
       " 'limited objective completed due formality complied thereafter land housing board whose statutory responsibili ty implement housing schemesection told house built land already although doubt whether 5 acre total extent still remain vacant',\n",
       " 'contention sound whole scheme shot disaster socially conscious try avert unless com pelled fundamental legal lawsection alleged vital weakness acquisition proceeding vitiate altogether',\n",
       " 'firstly technicality technically countered secondly compassionate consideration invalidatory effect',\n",
       " 'urged u 16 improvement mandatory requirement service notice effected every person whose name appears',\n",
       " 'land revenue register primarily liable pay property land revenue assessment',\n",
       " 'perempto ry mandate complied first vital flaw pressed usection second contention based upon 15 3 improvement whereunder every improvement scheme provide construction building accommodation poorer working class including whole part class displaced execution scheme',\n",
       " 'clothes capacity displaced person right allotment land construction building residence',\n",
       " 'make short work first point straightway obligation 16 serve notice person whose name appear land revenue register primarily liable pay land revenue assessment',\n",
       " 'apart burden prove vendor person whose name borne land revenue register',\n",
       " 'cer tainly notice given khatedarsection return respondent state notified khatedars notified acquisition',\n",
       " 'exhibit r produced alongwith return show somayaji khatedar vendor',\n",
       " 'disputed point investi gated thoroughness intimate acquaintance local revenue law elicits appreciation',\n",
       " 'considering documentary evidence adduced authoritative revenue law bearing subject scanning meaning entry extract learned judge reached conclusion khatta produced mere tentative compilation information transmitted revenue de partment inams abolition department khetwar patrak land revenue register within meaning 16 improvement',\n",
       " 'concluded opinion land revenue register 16 refers register land khetwar patrak register khatta something different',\n",
       " 'full discussion crystallized conclusion thus even though person occupant sense word understood long proved name appears land revenue register material point time pronounce validity acquisition publication declaration 18 slender foundation insufficient material certified copy tentative khata referred',\n",
       " 'indeed produced wrong document cute misled evident observation emerges discussion far land revenue register register land khetwar patrak maintained form number set volume mysore village manual page 8 u either register land certified copy exlplanation offered u petitioner obtain copy register produce',\n",
       " 'hearing shri gupte length disposed dislodged finding painstakingly recorded',\n",
       " 'first point failsection 168 point seriously pressed u shri gupte 15 3 obligation part board trustee provide plot displaced',\n",
       " 'nothing 15 3 improvement warrantsection compulsive duty creates right claim plot',\n",
       " 'course board consider providing land person acquisition',\n",
       " 'clear rule allotment sitesection rule 10 settle principle selection applicant allotment sitesection rule 10 read 10',\n",
       " 'principle selection applicant allotment sitesection board consider applicant merit regard following principle making selection fixing priority allotment applicant whose land house acquired board provided otherwise qualified allotment ii status applicant whether married single dependent child iii income applicant capacity purchase site build house thereon residence iv number year applicant waiting allotment site fact secure site earlier though eligible applied site',\n",
       " 'fact u land acquired already transferred housing board house al ready built least substantial part land',\n",
       " 'say stage regard compassionate factor land acquired perhaps displaced entirety building site fair gesture part housing board vacant land still avail able stay granted strongly suggestive land still available built upon consider claim applies within three month today allotment site house subject course eligibility allotment criterion comparative evaluation claim prescribed rule behalf',\n",
       " 'view already taken merit substantive point 169 called upon consider deadly effect delay date acquisition notifica tion institution writ petition',\n",
       " 'dismissed consideration conspectus circumstance present direct par tie bear cost throughout']"
      ]
     },
     "execution_count": 6,
     "metadata": {},
     "output_type": "execute_result"
    }
   ],
   "source": [
    "jgslist[0]"
   ]
  },
  {
   "cell_type": "code",
   "execution_count": 7,
   "metadata": {},
   "outputs": [
    {
     "name": "stderr",
     "output_type": "stream",
     "text": [
      "Some weights of the model checkpoint at bert-base-uncased were not used when initializing BertModel: ['cls.predictions.transform.LayerNorm.weight', 'cls.predictions.transform.dense.weight', 'cls.predictions.bias', 'cls.predictions.transform.LayerNorm.bias', 'cls.seq_relationship.weight', 'cls.predictions.transform.dense.bias', 'cls.seq_relationship.bias']\n",
      "- This IS expected if you are initializing BertModel from the checkpoint of a model trained on another task or with another architecture (e.g. initializing a BertForSequenceClassification model from a BertForPreTraining model).\n",
      "- This IS NOT expected if you are initializing BertModel from the checkpoint of a model that you expect to be exactly identical (initializing a BertForSequenceClassification model from a BertForSequenceClassification model).\n"
     ]
    }
   ],
   "source": [
    "import torch  \n",
    "from transformers import BertTokenizer,BertModel\n",
    "\n",
    "tokenizer = BertTokenizer.from_pretrained('bert-base-uncased') \n",
    "model = BertModel.from_pretrained(\"bert-base-uncased\")"
   ]
  },
  {
   "cell_type": "code",
   "execution_count": 8,
   "metadata": {},
   "outputs": [
    {
     "name": "stdout",
     "output_type": "stream",
     "text": [
      "Sentence embedding shape: torch.Size([768])\n",
      "Sentence embedding type: <class 'torch.Tensor'>\n",
      "sentence embedding vector: [-0.16241507232189178, -0.41568660736083984, -0.20488415658473969, -0.5832605957984924, -0.09972049295902252, -0.0720897689461708, 0.7507054209709167, 0.876915454864502, -0.29669204354286194, 0.1672740876674652, -0.0056449007242918015, -0.39215248823165894, -0.12128263711929321, 0.3227817118167877, 0.06187907233834267, 0.324336439371109, 0.1392814964056015, -0.04975470155477524, -0.1171233057975769, -0.05851283669471741, 0.4447243809700012, 0.4956166446208954, -0.4874626696109772, 0.21142280101776123, 1.0534672737121582, -0.3005586266517639, -0.06525521725416183, -0.4304679036140442, -0.7295270562171936, -0.26992595195770264, 0.40153297781944275, 0.06429506838321686, -0.32018354535102844, -0.19431567192077637, 0.05775190144777298, -0.6093505024909973, 0.04377003759145737, -0.33839598298072815, -0.05984562262892723, 0.44613248109817505, -0.82230544090271, -0.048709213733673096, 0.4103938639163971, 0.2296854853630066, 0.20509891211986542, -0.11186414211988449, -0.050727277994155884, -0.18930979073047638, -0.08071757107973099, 0.10156378149986267, -1.2761906385421753, 0.24014708399772644, 0.6649854779243469, 0.4168166518211365, -0.5053530335426331, 0.5459438562393188, -0.13017216324806213, -0.8435295224189758, -0.30723699927330017, -0.06074347347021103, 0.5697193741798401, 0.23810513317584991, 0.31882527470588684, -0.796442449092865, 0.3805682063102722, 0.3616553544998169, 0.24195247888565063, 0.4273134171962738, -1.2312180995941162, 0.22904318571090698, -0.5101599097251892, -0.7402560710906982, 0.07674861699342728, 0.23053333163261414, -0.32410097122192383, 0.4414811432361603, -0.305155873298645, 0.43619778752326965, -0.3717510402202606, -0.5711947679519653, -0.38338232040405273, 0.7456799149513245, 0.07521916925907135, 0.18070092797279358, 0.006842222064733505, -0.36155229806900024, -0.06419326364994049, -0.08299580216407776, -0.5532694458961487, 0.738270103931427, -0.2830023169517517, -0.04921923577785492, -0.07639433443546295, -0.3036935031414032, 1.081073522567749, -0.088443823158741, 0.08477059006690979, 0.004281617701053619, -0.2703694701194763, 0.1814199984073639, 0.1626071035861969, -1.0267924070358276, 0.4641498327255249, 0.07265716791152954, -0.08400623500347137, -0.23288372159004211, 0.2330123782157898, 0.3208863139152527, -0.1358858197927475, -0.14010944962501526, 0.3675335943698883, -0.22514007985591888, 0.12853679060935974, -0.12962552905082703, -0.4481613337993622, 0.714669942855835, 0.16713857650756836, 0.08230342715978622, -0.35374772548675537, -0.15907087922096252, -0.28243619203567505, -0.17012393474578857, 0.26132169365882874, 0.7345909476280212, -0.3812696933746338, 0.5950637459754944, 0.12180407345294952, 0.4596286118030548, 0.4878113865852356, -0.1907133162021637, 0.4875330328941345, 0.5881906151771545, 0.6397108435630798, -0.7018641233444214, -0.23396769165992737, -0.03681735694408417, 0.03309454023838043, -0.4395264685153961, -0.7773342728614807, 0.323375940322876, 0.47110849618911743, 0.11127901077270508, 0.2563777565956116, -0.6709414124488831, -0.02032562345266342, 0.3166060149669647, -0.45842882990837097, -0.08345164358615875, 0.5912348628044128, 0.1860705018043518, 0.42395588755607605, -0.07006710022687912, -0.5491158962249756, -0.04375230893492699, -0.46474534273147583, 0.033713582903146744, 0.21257247030735016, 0.5121712684631348, 0.05561891570687294, -0.032355327159166336, 0.7510471940040588, 0.26494380831718445, 0.32321637868881226, 0.34072956442832947, 0.18193766474723816, 0.38367775082588196, -0.28154173493385315, 0.04389887675642967, -0.07639329880475998, 0.1759246289730072, -0.8099803328514099, -0.20348438620567322, 0.4641402065753937, -0.29915904998779297, -0.35818174481391907, 0.4467538595199585, 0.3256133496761322, 0.027453863993287086, 0.5762991309165955, -0.45970043540000916, -1.5254322290420532, 0.769247829914093, 0.30218765139579773, -0.6729164719581604, 0.28930163383483887, -0.5026524066925049, 0.8586801290512085, -0.4516379237174988, -0.135209858417511, 0.09838268160820007, -0.22742323577404022, -0.4528786242008209, -0.022378310561180115, -0.5284587144851685, 0.23262177407741547, 0.07839728891849518, -0.5390334725379944, -0.6261991858482361, -0.12614011764526367, 0.14726220071315765, 0.18839715421199799, 0.3157840371131897, -0.2666516900062561, -0.04084651917219162, -0.13149389624595642, 0.22881504893302917, 0.2677454948425293, 0.00767679326236248, -0.24993422627449036, 0.1672380566596985, -0.40936070680618286, 1.2498427629470825, 0.6149839758872986, -0.18792638182640076, 0.5635091066360474, 0.10340401530265808, -0.10191011428833008, 0.17750494182109833, -0.15852394700050354, -0.048810478299856186, -0.19676285982131958, -0.038295164704322815, -0.5114710330963135, 0.5292229056358337, -0.02077633887529373, 0.6436818242073059, 0.1372363269329071, 0.5404101610183716, 0.8412507772445679, 0.01348118670284748, 0.21738141775131226, -0.19523084163665771, 0.7114154696464539, 0.17460179328918457, -0.614380955696106, 0.3475167751312256, -0.31376659870147705, 0.26539522409439087, -0.6003654599189758, -0.18373483419418335, -0.08800435066223145, 0.24883019924163818, 0.1207273006439209, -0.02254602685570717, -0.3297106623649597, -0.37565216422080994, -0.2271871119737625, -0.03891763091087341, -0.17950038611888885, -0.5128272175788879, -0.029672110453248024, -0.42316004633903503, -0.14268088340759277, -0.6923417448997498, -0.6488417983055115, 0.0480530671775341, -0.37782829999923706, -0.016032282263040543, 0.12206649780273438, 0.8230422735214233, -0.03410976007580757, 0.3431686758995056, -0.33391308784484863, 0.46129852533340454, -0.9700583815574646, 0.23115874826908112, 0.19447246193885803, 0.5489115715026855, 0.8926578164100647, 0.4541177749633789, -0.5614564418792725, -0.7637813687324524, -0.20351804792881012, 0.11200450360774994, -0.29072895646095276, 0.28685882687568665, -0.03755790367722511, 0.21954821050167084, -0.2789968252182007, 0.21331627666950226, 0.18052589893341064, 0.4412785470485687, -0.24157339334487915, 0.0056955404579639435, -0.21267235279083252, -0.22873824834823608, 0.170486181974411, 0.058514706790447235, 0.03207913786172867, -0.4434411823749542, -0.41876840591430664, 0.19962149858474731, -0.23677442967891693, -0.3971417248249054, 0.22650501132011414, 0.382260799407959, 0.6358490586280823, -0.23163068294525146, -0.07008238136768341, -0.7113854885101318, -0.273369699716568, -0.46807435154914856, -0.3497891426086426, 0.10941645503044128, -0.7144026756286621, 0.64683598279953, 0.3159996271133423, -0.5901169776916504, -1.534867286682129, 0.13534240424633026, -0.10907936841249466, -0.5774827599525452, 0.1081102043390274, -0.011792778968811035, -0.4080747067928314, -0.3545118570327759, -0.6080421805381775, -0.026862554252147675, -0.6171090006828308, -1.1683762073516846, 0.16846613585948944, 0.8009534478187561, 0.25849467515945435, 0.001755284145474434, 0.03536926582455635, -0.05044778436422348, 0.011186480522155762, 0.622089684009552, -0.258958637714386, 0.08336898684501648, -0.14142823219299316, -0.47564417123794556, 0.29762548208236694, 0.4659360349178314, -0.654326319694519, 0.5485689043998718, -0.671970009803772, -0.7369091510772705, 0.18493586778640747, -0.04913753271102905, 0.4821195602416992, -0.36309128999710083, -0.07073377817869186, 0.373778760433197, 0.12508469820022583, -0.5347831845283508, 0.6112411618232727, -0.347228080034256, -0.569953441619873, 0.07946529984474182, 0.2319454401731491, 0.34103482961654663, 0.8311717510223389, -0.5438902974128723, -0.5604509711265564, -0.4246194064617157, 0.3928137719631195, 0.6577853560447693, -0.3320068418979645, -0.2188582718372345, 0.3519212007522583, 0.2572650611400604, 0.22512122988700867, 0.03806503489613533, 0.4080381691455841, 0.3830399513244629, 0.5020716786384583, -0.033470600843429565, 0.5976767539978027, -0.44345420598983765, 0.016966603696346283, -0.13237614929676056, 0.39929670095443726, -0.7886791229248047, -0.19279463589191437, -0.07204766571521759, -0.26813673973083496, 0.4808778762817383, -0.3410005271434784, 0.14706751704216003, -0.6322791576385498, -0.6559278964996338, 0.15448839962482452, -0.13648703694343567, 0.4930771291255951, -0.1189730316400528, -0.011028047651052475, -0.4724263548851013, -0.4371300935745239, -0.806298553943634, -0.22430753707885742, 0.21235336363315582, 0.06697136908769608, 0.18010513484477997, 0.2318321317434311, -0.15120118856430054, -0.5726304054260254, -0.6903166770935059, -0.5412914752960205, 0.6299019455909729, 0.2502908706665039, 0.15459030866622925, -0.18811044096946716, 0.39202576875686646, 0.743346631526947, -0.9041438102722168, 0.41460174322128296, -0.29444071650505066, 0.05902733653783798, -0.15281760692596436, 0.5384225249290466, 0.017433665692806244, 0.15510478615760803, 0.2716737687587738, -0.8755434155464172, 0.6423697471618652, 0.15960757434368134, 0.13872088491916656, -0.127868190407753, -0.6249701976776123, -0.1017005518078804, 0.029276862740516663, -0.22780939936637878, 0.28230613470077515, 0.004910126328468323, 0.5799953937530518, 1.0132774114608765, 0.37793439626693726, -0.013304576277732849, 0.6698746681213379, -0.41577228903770447, -0.4384234845638275, -0.7820249795913696, -0.07361777126789093, -0.25493162870407104, 0.24352996051311493, -0.02715527079999447, -0.17490094900131226, -0.6878389716148376, 0.005103607662022114, -0.1261301189661026, -0.10840865969657898, -0.03953234851360321, -1.014377474784851, 0.0963829904794693, 0.6135191917419434, 0.7193653583526611, -0.3950362503528595, 0.23085319995880127, 0.37020739912986755, -0.4996424615383148, -0.3077400326728821, -0.02800530381500721, 0.8789806365966797, 0.2074560821056366, -0.11609680950641632, -0.1308535933494568, 0.11930199712514877, -0.3379662036895752, -0.38940268754959106, -0.05340941995382309, -0.5083773732185364, -0.012855017557740211, -0.7168540954589844, 0.35088735818862915, 0.05383305996656418, -0.30715638399124146, -0.3128093183040619, 0.24350716173648834, 0.709286093711853, -0.04215092957019806, -0.002760808914899826, 0.19355347752571106, -0.23137517273426056, -0.08040595054626465, -0.09174758940935135, -0.3867334723472595, 0.39673200249671936, -0.21758940815925598, -0.11608181893825531, 0.22644701600074768, -0.22805199027061462, 0.20675086975097656, 0.168467178940773, 0.4490536153316498, -0.21905848383903503, 0.3392205536365509, 0.7518334984779358, -0.07237155735492706, -0.04940667375922203, 0.2596718966960907, 0.07549668848514557, 0.28953519463539124, 0.44311243295669556, 0.1692056953907013, 0.11868895590305328, 0.19561199843883514, -0.11477118730545044, -0.17835946381092072, 0.07631398737430573, -0.4917207360267639, -0.1614559292793274, -1.0591340065002441, -0.7000366449356079, -0.005951426923274994, -0.6451592445373535, 0.07746382057666779, -0.11217264831066132, 0.5222386121749878, 0.4724813401699066, -0.35804444551467896, -0.3533220887184143, 0.09383116662502289, -0.287467896938324, 0.05768629163503647, -0.012261766940355301, -0.06485473364591599, 0.08295988291501999, -0.1552523672580719, -0.6039478778839111, -0.13588286936283112, -0.9523124098777771, 0.2975596785545349, -0.006027702242136002, 0.17129579186439514, 0.2989288568496704, -0.2760726809501648, -0.4340163469314575, -0.5081061720848083, -0.29285675287246704, 0.08326862752437592, 0.05233503133058548, -0.4682966470718384, -0.5459272861480713, -0.44794952869415283, -0.4607478678226471, -0.48821955919265747, -0.04390406981110573, -0.2316698282957077, -0.1664518266916275, 0.11317527294158936, 0.011244479566812515, 0.08084911108016968, -0.7583226561546326, -0.7957602739334106, -0.20050407946109772, 0.21522021293640137, -0.5636807084083557, 0.22175681591033936, 0.008050980046391487, 0.21386288106441498, -0.7377147674560547, -0.3136918544769287, -0.38961178064346313, 0.3798203766345978, 0.6283427476882935, -0.16205653548240662, 0.2579501271247864, -0.23116284608840942, 0.5248054265975952, -0.7381026744842529, -0.6016401648521423, 0.35365766286849976, -0.6630142331123352, -0.384808748960495, 0.5163899660110474, -0.5125413537025452, 0.08960764855146408, 0.6081858277320862, -0.07340959459543228, 0.0438394770026207, 0.9895264506340027, 0.18627776205539703, 0.07999217510223389, 0.13780619204044342, 0.18407532572746277, 0.14694826304912567, -0.0164217296987772, -0.17489786446094513, 0.07969621568918228, 0.04712776094675064, 0.27593186497688293, 0.32338058948516846, -0.20445747673511505, 0.14532646536827087, -0.6260984539985657, 0.01757892593741417, 0.051519542932510376, -0.14131072163581848, 0.23144477605819702, -0.8165938258171082, -0.04777050018310547, 0.5721091628074646, -0.05145785212516785, -0.435346782207489, 0.5538713335990906, -0.08430498093366623, -0.36947253346443176, -0.03185678645968437, 0.08423464000225067, -0.11975020170211792, 0.08237125724554062, -0.2126624882221222, -0.2083004266023636, 0.6206734776496887, 0.5468669533729553, -0.35056251287460327, -0.2677665054798126, -0.06603347510099411, 0.8295304775238037, 0.15900126099586487, 0.016908206045627594, -0.3714868128299713, 0.08929884433746338, 0.5323799252510071, -0.6230061650276184, 0.3917679190635681, 0.42969030141830444, -0.14050109684467316, 0.057780664414167404, 0.5464186072349548, 0.4698130786418915, -0.06150263920426369, -0.5373587012290955, 0.3776116967201233, -0.46603140234947205, -0.0714137852191925, 0.10926630347967148, -0.30775219202041626, -0.20949749648571014, 0.10308187454938889, 0.24576105177402496, -0.6337878108024597, 0.6885440945625305, -0.35298171639442444, 0.1005016639828682, -0.37267184257507324, 0.17018191516399384, -0.04066948592662811, 0.6797634959220886, -0.25121772289276123, 0.8550540804862976, -0.5983882546424866, 0.06150243431329727, 0.10322897136211395, 0.10670562088489532, 0.5094205141067505, -0.5388935208320618, 0.15396076440811157, 0.30387911200523376, 0.11243318766355515, 0.45271649956703186, -0.49665263295173645, -0.6874027848243713, -0.07806047797203064, -0.1324867606163025, 0.2522231340408325, 0.16056983172893524, 0.37066322565078735, 0.7094832062721252, 0.4827837347984314, 0.23375354707241058, 0.3512307405471802, 0.2501407861709595, 0.3788488805294037, 0.25516778230667114, -0.0665866881608963, 0.055272527039051056, 0.259392112493515, 0.15984685719013214, 0.6488969922065735, -0.09945125132799149, -0.2077224850654602, 0.031151574105024338, 0.4485377371311188, 0.2935090661048889, -0.25549671053886414, -0.17541369795799255, 0.10246139764785767, 0.3007764220237732, -0.34194353222846985, -0.4244226813316345, -0.4802134335041046, 0.8954988718032837, -0.22817707061767578, -0.15193648636341095, -0.6613420844078064, 0.2988942563533783, -0.10679449141025543, 0.42074456810951233, -0.5204882025718689, -0.38858023285865784, -0.26621347665786743, -0.5327142477035522, 0.0731763169169426, -0.227566659450531, -0.06365643441677094, -0.17795729637145996, -0.354153037071228, -0.4272325932979584, 0.15621888637542725, -0.4358098804950714, 0.7446613311767578, 0.030533626675605774, 0.07213101536035538, 0.5930904746055603, 0.66801917552948, -0.5368621349334717, 0.44811537861824036, -0.2598431408405304, -0.37036755681037903, 0.2359546422958374, 0.24487915635108948, 0.07395638525485992, -0.16661176085472107, 0.22888052463531494, -0.1937960982322693, -0.6548161506652832, 0.20093314349651337, 0.5056304335594177, -0.6902076005935669, 0.12502136826515198, -0.3183627426624298, 0.274216890335083, 0.09388884902000427, -0.1135096400976181, -0.03939301148056984, 0.29413339495658875, -0.3933526277542114, -0.44782841205596924, 0.08615408092737198, 0.7441195249557495, -0.3057372570037842, -0.2513076066970825, 0.08946602791547775, 0.1622723937034607, -0.39655518531799316, 0.3295694887638092, 0.6029677987098694, 0.26948967576026917, 0.06799831986427307, 0.48556414246559143, 0.47437411546707153, -0.8133281469345093, 0.4621679186820984, -0.018182244151830673, -0.26819908618927, -0.24553373456001282, -0.19073688983917236, 0.8630913496017456, 0.36409348249435425, 0.23869366943836212, -1.108377456665039, 0.24563786387443542, 0.3019171953201294, -0.41300684213638306, 0.24182051420211792, -0.4912048578262329, 0.12596648931503296, -0.11867432296276093, -0.2529281675815582, -0.7582824230194092, -0.5595138072967529, 0.39237719774246216, 0.6445712447166443, -0.2625412046909332, 0.1507268249988556, 0.35253047943115234]\n"
     ]
    }
   ],
   "source": [
    "#testing the bert model\n",
    "\n",
    "\n",
    "# Example sentence\n",
    "sentence = \"This is an example sentence.\"\n",
    "\n",
    "# Tokenize the sentence\n",
    "tokens = tokenizer.encode(sentence, add_special_tokens=True)\n",
    "\n",
    "# Convert tokens to PyTorch tensors\n",
    "input_ids = torch.tensor([tokens])\n",
    "\n",
    "# Obtain the sentence embedding\n",
    "with torch.no_grad():\n",
    "    outputs = model(input_ids)\n",
    "    sentence_embedding = outputs.last_hidden_state.mean(dim=1).squeeze(0)\n",
    "\n",
    "print(\"Sentence embedding shape:\", sentence_embedding.shape)\n",
    "print(\"Sentence embedding type:\", type(sentence_embedding))\n",
    "print(\"sentence embedding vector:\", sentence_embedding.tolist())"
   ]
  },
  {
   "cell_type": "code",
   "execution_count": 10,
   "metadata": {},
   "outputs": [],
   "source": [
    "def get_sentence_embeddings(sentences):\n",
    "    # Tokenize the sentences\n",
    "    encoded_inputs = tokenizer(sentences, padding=True, truncation=True, return_tensors='pt')\n",
    "\n",
    "    # Forward pass through the BERT model\n",
    "    with torch.no_grad():\n",
    "        outputs = model(**encoded_inputs)\n",
    "        sentence_embeddings = outputs.last_hidden_state.mean(dim=1)  # Average pooling\n",
    "\n",
    "    return sentence_embeddings.tolist()\n"
   ]
  },
  {
   "cell_type": "markdown",
   "metadata": {},
   "source": [
    "Finding vector of each sentences in jgslist and sumlist and storing it in list"
   ]
  },
  {
   "cell_type": "code",
   "execution_count": 11,
   "metadata": {},
   "outputs": [],
   "source": [
    "jgsvector = [get_sentence_embeddings(lst) for lst in jgslist]\n",
    "sumvector = [get_sentence_embeddings(lst) for lst in sumlist]"
   ]
  },
  {
   "cell_type": "code",
   "execution_count": 16,
   "metadata": {},
   "outputs": [
    {
     "ename": "NameError",
     "evalue": "name 'sumvector' is not defined",
     "output_type": "error",
     "traceback": [
      "\u001b[0;31m---------------------------------------------------------------------------\u001b[0m",
      "\u001b[0;31mNameError\u001b[0m                                 Traceback (most recent call last)",
      "Cell \u001b[0;32mIn[16], line 1\u001b[0m\n\u001b[0;32m----> 1\u001b[0m \u001b[39mprint\u001b[39m(sumvector[\u001b[39m0\u001b[39m])\n",
      "\u001b[0;31mNameError\u001b[0m: name 'sumvector' is not defined"
     ]
    }
   ],
   "source": [
    "print(sumvector[0])"
   ]
  },
  {
   "cell_type": "code",
   "execution_count": null,
   "metadata": {},
   "outputs": [],
   "source": [
    "# for a particular sentence is judglist there will be a similarity score\n",
    "# so for sentences in jgslist[i] we have to compare each sentence with sentences in sumlist[i] and all the scores for a sentence in jgslist[i]\n",
    "scores = []\n",
    "for i in range(len(jgsvector)):\n",
    "  temp = []\n",
    "  for j in range(len(jgsvector[i])):\n",
    "    #compare jth sentence with all sentences in sumlist[i] and add scores\n",
    "    score = 0\n",
    "    vect1 = np.array(jgsvector[i][j])\n",
    "    for lst in sumlist[i]:\n",
    "      vect2 = np.array(lst)\n",
    "      score += cosine(vect1,vect2)\n",
    "    temp.append(score)\n",
    "  scores.append(temp)"
   ]
  }
 ],
 "metadata": {
  "kernelspec": {
   "display_name": "Python 3.9 (pytorch)",
   "language": "python",
   "name": "pytorch"
  },
  "language_info": {
   "codemirror_mode": {
    "name": "ipython",
    "version": 3
   },
   "file_extension": ".py",
   "mimetype": "text/x-python",
   "name": "python",
   "nbconvert_exporter": "python",
   "pygments_lexer": "ipython3",
   "version": "3.9.16"
  }
 },
 "nbformat": 4,
 "nbformat_minor": 2
}
