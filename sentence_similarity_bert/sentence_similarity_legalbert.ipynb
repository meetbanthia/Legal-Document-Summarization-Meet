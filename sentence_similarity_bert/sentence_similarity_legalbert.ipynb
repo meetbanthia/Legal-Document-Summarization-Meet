{
 "cells": [
  {
   "cell_type": "code",
   "execution_count": 3,
   "metadata": {},
   "outputs": [
    {
     "data": {
      "text/plain": [
       "0"
      ]
     },
     "execution_count": 3,
     "metadata": {},
     "output_type": "execute_result"
    }
   ],
   "source": [
    "#unzippinf lists_to_use zip to access files inside it\n",
    "from zipfile import ZipFile\n",
    "\n",
    "with ZipFile('../intermediate/lists_to_use.zip', 'r') as f:\n",
    "    f.extractall('../intermediate/')\n",
    "\n",
    "#accessing files\n",
    "import pickle\n",
    "with open('../intermediate/lists_to_use/jl.pickle', 'rb') as file:\n",
    "  jgslist = pickle.load(file)\n",
    "\n",
    "with open('../intermediate/lists_to_use/sl.pickle', 'rb') as file:\n",
    "  sumlist = pickle.load(file)\n",
    "\n",
    "#remove unzipped files\n",
    "import os\n",
    "os.system(\"rm -r ../intermediate/lists_to_use\")"
   ]
  },
  {
   "cell_type": "markdown",
   "metadata": {},
   "source": [
    "1. jgslist and sumlist is a list of list of sentences that is preprocessed\n",
    "2. jgslist[i] is a list that contains sentences of ith judgement\n",
    "3. sumlist[i] is a list that contains sentences of ith judgement's summary\n",
    "4. len(jgslist) = len(sumlist) = 7028 (we have 7028 judgements in our dataset)\n",
    "5. stored jgslist and sumlist in preprocessing.ipynb file present in the root directory"
   ]
  },
  {
   "cell_type": "markdown",
   "metadata": {},
   "source": [
    "Found that lemmatizing our words may reduce chances of OOV words problem"
   ]
  },
  {
   "cell_type": "markdown",
   "metadata": {},
   "source": [
    "Lemmatized each word in our dataset using nltk WordNetLemmatizer"
   ]
  },
  {
   "cell_type": "code",
   "execution_count": 4,
   "metadata": {},
   "outputs": [],
   "source": [
    "import numpy as np\n",
    "def cosine(u, v):\n",
    "    return np.dot(u, v) / (np.linalg.norm(u) * np.linalg.norm(v))"
   ]
  },
  {
   "cell_type": "code",
   "execution_count": 4,
   "metadata": {},
   "outputs": [
    {
     "name": "stderr",
     "output_type": "stream",
     "text": [
      "Some weights of the model checkpoint at nlpaueb/legal-bert-base-uncased were not used when initializing BertModel: ['cls.predictions.decoder.bias', 'cls.predictions.transform.dense.weight', 'cls.predictions.transform.LayerNorm.bias', 'cls.seq_relationship.weight', 'cls.predictions.transform.dense.bias', 'cls.predictions.decoder.weight', 'cls.seq_relationship.bias', 'cls.predictions.bias', 'cls.predictions.transform.LayerNorm.weight']\n",
      "- This IS expected if you are initializing BertModel from the checkpoint of a model trained on another task or with another architecture (e.g. initializing a BertForSequenceClassification model from a BertForPreTraining model).\n",
      "- This IS NOT expected if you are initializing BertModel from the checkpoint of a model that you expect to be exactly identical (initializing a BertForSequenceClassification model from a BertForSequenceClassification model).\n"
     ]
    }
   ],
   "source": [
    "import torch  \n",
    "from transformers import AutoTokenizer, AutoModel\n",
    "tokenizer = AutoTokenizer.from_pretrained(\"nlpaueb/legal-bert-base-uncased\")\n",
    "model = AutoModel.from_pretrained(\"nlpaueb/legal-bert-base-uncased\")"
   ]
  },
  {
   "cell_type": "markdown",
   "metadata": {},
   "source": []
  },
  {
   "cell_type": "code",
   "execution_count": 7,
   "metadata": {},
   "outputs": [],
   "source": [
    "#takes list of strings as a parameter\n",
    "#return list where each element \n",
    "\n",
    "def get_sentence_embeddings(sentences):\n",
    "    # Tokenize the sentences\n",
    "    encoded_inputs = tokenizer(sentences, padding=True, truncation=True, return_tensors='pt')\n",
    "\n",
    "    # Forward pass through the BERT model\n",
    "    with torch.no_grad():\n",
    "        outputs = model(**encoded_inputs)\n",
    "        sentence_embeddings = outputs.last_hidden_state.mean(dim=1)  # Average pooling\n",
    "\n",
    "    return sentence_embeddings\n"
   ]
  },
  {
   "cell_type": "code",
   "execution_count": 22,
   "metadata": {},
   "outputs": [
    {
     "name": "stdout",
     "output_type": "stream",
     "text": [
      "torch.Size([768])\n",
      "torch.Size([768])\n"
     ]
    }
   ],
   "source": [
    "#just checking whether each sentence embedding is correctly converted to list or some other datatype\n",
    "\n",
    "temp = [\"paper publish\",\"of course\"]\n",
    "tvec = get_sentence_embeddings(temp)\n",
    "for vect in tvec:\n",
    "    print(vect.shape)"
   ]
  },
  {
   "cell_type": "markdown",
   "metadata": {},
   "source": [
    "Finding vector of each sentences in jgslist and sumlist and storing it in list"
   ]
  },
  {
   "cell_type": "code",
   "execution_count": null,
   "metadata": {},
   "outputs": [],
   "source": [
    "#finding sentence embeddings for each sentence\n",
    "\n",
    "#lst is a list of sentences of a particular judgement\n",
    "jgsvector = [get_sentence_embeddings(lst) for lst in jgslist]\n",
    "\n",
    "#lst is a list of sentences of a particular judgement\n",
    "sumvector = [get_sentence_embeddings(lst) for lst in sumlist]"
   ]
  },
  {
   "cell_type": "code",
   "execution_count": null,
   "metadata": {},
   "outputs": [],
   "source": [
    "# for a particular vector is jgsvector there will be a similarity score\n",
    "# so for vectors in jgsvector[i] we have to compare each vector with vectors in sumvector[i] and add the scores for that vector in jgsvector[i]\n",
    "scores = []\n",
    "for i in range(len(jgsvector)):\n",
    "  temp = []\n",
    "  for j in range(len(jgsvector[i])):\n",
    "    #compare jth sentence with all sentences in sumlist[i] and add scores\n",
    "    score = 0\n",
    "    vect1 = np.array(jgsvector[i][j])\n",
    "    for lst in sumvector[i]:\n",
    "      vect2 = np.array(lst)\n",
    "      score += cosine(vect1,vect2)\n",
    "    temp.append(score)\n",
    "  scores.append(temp)"
   ]
  },
  {
   "cell_type": "code",
   "execution_count": null,
   "metadata": {},
   "outputs": [],
   "source": [
    "#store my scores list, sentence emebeddings in intermediate folder                      \n",
    "# Save data to a pickle file\n",
    "                \n",
    "with open('../intermediate/scores_legbert.pickle', 'wb') as file:\n",
    "    pickle.dump(scores, file)\n",
    "\n",
    "with open('../intermediate/jgsvector_legbert.pickle', 'wb') as file:\n",
    "    pickle.dump(jgsvector, file)\n",
    "\n",
    "with open('../intermediate/sumvector_legbert.pickle', 'wb') as file:\n",
    "    pickle.dump(sumvector, file)\n",
    "\n",
    "\n",
    "import os\n",
    "os.system(\"zip ../intermediate/legbert.zip ../intermediate/scores_legbert.pickle ../intermediate/jgsvector_legbert.pickle ../intermediate/sumvector_legbert.pickle\")\n",
    "os.system(\"rm ../intermediate/scores_legbert.pickle\")\n",
    "os.system(\"rm ../intermediate/jgsvector_legbert.pickle\")\n",
    "os.system(\"rm ../intermediate/sumvector_legbert.pickle\")\n"
   ]
  }
 ],
 "metadata": {
  "kernelspec": {
   "display_name": "Python 3.9 (pytorch)",
   "language": "python",
   "name": "pytorch"
  },
  "language_info": {
   "codemirror_mode": {
    "name": "ipython",
    "version": 3
   },
   "file_extension": ".py",
   "mimetype": "text/x-python",
   "name": "python",
   "nbconvert_exporter": "python",
   "pygments_lexer": "ipython3",
   "version": "3.9.16"
  }
 },
 "nbformat": 4,
 "nbformat_minor": 2
}
